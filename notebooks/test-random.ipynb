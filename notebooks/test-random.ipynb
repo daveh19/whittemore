{
 "cells": [
  {
   "cell_type": "code",
   "execution_count": 1,
   "metadata": {},
   "outputs": [],
   "source": [
    "(require '[acausal.core\n",
    "           :refer [define model identify q identifiable?\n",
    "                   latent-projection vertices]]\n",
    "         '[acausal.random :as ar]\n",
    "         '[clojure.repl :refer [doc]]\n",
    "         '[incanter.charts]\n",
    "         :reload-all)"
   ]
  },
  {
   "cell_type": "code",
   "execution_count": 2,
   "metadata": {},
   "outputs": [
    {
     "data": {
      "text/plain": [
       "[:n_1 :n_2 :n_3 :n_4 :n_5 :n_6 :n_7 :n_8 :n_9 :n_10 :n_11 :n_12 :n_13 :n_14 :n_15]"
      ]
     },
     "execution_count": 2,
     "metadata": {},
     "output_type": "execute_result"
    }
   ],
   "source": [
    "(def N 1000)\n",
    "\n",
    "(def num-vars\n",
    "    \"Number of variables per model.\"\n",
    "    15)\n",
    "\n",
    "(def num-latent\n",
    "    \"Number of non-observable variables per model.\"\n",
    "    10)\n",
    "\n",
    "(def v\n",
    "    \"Variables of the models\"\n",
    "    (ar/gen-nodes num-vars))\n",
    "\n",
    "v"
   ]
  },
  {
   "cell_type": "code",
   "execution_count": 3,
   "metadata": {},
   "outputs": [
    {
     "data": {
      "text/plain": [
       "#'user/gen-markovian"
      ]
     },
     "execution_count": 3,
     "metadata": {},
     "output_type": "execute_result"
    }
   ],
   "source": [
    "(defn gen-markovian\n",
    "    [num-models num-vars p-edge]\n",
    "    (take num-models\n",
    "          (repeatedly #(ar/erdos-renyi-model num-vars p-edge))))"
   ]
  },
  {
   "cell_type": "code",
   "execution_count": 4,
   "metadata": {},
   "outputs": [
    {
     "data": {
      "text/plain": [
       "#'user/gen-models"
      ]
     },
     "execution_count": 4,
     "metadata": {},
     "output_type": "execute_result"
    }
   ],
   "source": [
    "(defn gen-models\n",
    "    [num-models num-vars num-latent p-edge]\n",
    "    (let [models (gen-markovian num-models num-vars p-edge)]\n",
    "        (for [m models]\n",
    "            (latent-projection m (take num-latent (shuffle (vertices m)))))))"
   ]
  },
  {
   "cell_type": "code",
   "execution_count": 5,
   "metadata": {
    "scrolled": true
   },
   "outputs": [
    {
     "data": {
      "text/plain": [
       "#'user/erdos-reyni-number"
      ]
     },
     "execution_count": 5,
     "metadata": {},
     "output_type": "execute_result"
    }
   ],
   "source": [
    "(defn erdos-reyni-number [num-vars]\n",
    "    (/ (java.lang.Math/log num-vars) num-vars))"
   ]
  },
  {
   "cell_type": "code",
   "execution_count": 6,
   "metadata": {},
   "outputs": [
    {
     "data": {
      "text/plain": [
       "#'user/average"
      ]
     },
     "execution_count": 6,
     "metadata": {},
     "output_type": "execute_result"
    }
   ],
   "source": [
    "(defn average [coll]\n",
    "    (/ (reduce + coll) (count coll)))"
   ]
  },
  {
   "cell_type": "code",
   "execution_count": 7,
   "metadata": {
    "scrolled": false
   },
   "outputs": [
    {
     "data": {
      "text/plain": [
       "0.23025850929940458"
      ]
     },
     "execution_count": 7,
     "metadata": {},
     "output_type": "execute_result"
    }
   ],
   "source": [
    "(erdos-reyni-number 10)"
   ]
  },
  {
   "cell_type": "code",
   "execution_count": 8,
   "metadata": {
    "scrolled": false
   },
   "outputs": [
    {
     "data": {
      "image/png": "[encoded data removed]"
     },
     "execution_count": 8,
     "metadata": {},
     "output_type": "execute_result"
    }
   ],
   "source": [
    "(let [n 10]\n",
    "  (->\n",
    "    (incanter.charts/scatter-plot\n",
    "        (range (dec n))\n",
    "        (map #(average (map ar/percent-nontrivial-id\n",
    "                            (gen-models 100 n % 0.5)))\n",
    "             (range (dec n))))\n",
    "    \n",
    "    (.createBufferedImage 600 400)))"
   ]
  },
  {
   "cell_type": "code",
   "execution_count": 9,
   "metadata": {},
   "outputs": [
    {
     "data": {
      "text/plain": [
       "#'user/all-singleton-queries"
      ]
     },
     "execution_count": 9,
     "metadata": {},
     "output_type": "execute_result"
    }
   ],
   "source": [
    "(defn all-singleton-queries\n",
    "    \"All queries of the form (q i :do j) for i not= j\"\n",
    "    [nodes]\n",
    "    (for [i nodes\n",
    "          j nodes\n",
    "          :when (not= i j)]\n",
    "          (q [i] :do [j])))"
   ]
  },
  {
   "cell_type": "code",
   "execution_count": 10,
   "metadata": {
    "scrolled": true
   },
   "outputs": [
    {
     "data": {
      "text/plain": [
       "#'user/nontrivial-singleton-queries"
      ]
     },
     "execution_count": 10,
     "metadata": {},
     "output_type": "execute_result"
    }
   ],
   "source": [
    "(defn nontrivial-singleton-queries\n",
    "    [nodes]\n",
    "    (for [i nodes\n",
    "          j nodes\n",
    "          :when (< (compare i j) 0)]\n",
    "          (q [i] :do [j])))"
   ]
  },
  {
   "cell_type": "code",
   "execution_count": 11,
   "metadata": {
    "scrolled": true
   },
   "outputs": [
    {
     "data": {
      "text/plain": [
       "#'user/percent-identifiable"
      ]
     },
     "execution_count": 11,
     "metadata": {},
     "output_type": "execute_result"
    }
   ],
   "source": [
    "(defn percent-identifiable\n",
    "    [m]\n",
    "    (let [queries (all-singleton-queries (vertices m))]\n",
    "        (/\n",
    "            (->>\n",
    "                queries\n",
    "                (map #(identifiable? m %))\n",
    "                (filter identity)\n",
    "                count)\n",
    "            (count queries))))"
   ]
  },
  {
   "cell_type": "code",
   "execution_count": 12,
   "metadata": {},
   "outputs": [
    {
     "data": {
      "text/plain": [
       "#'user/percent-id-nontrivial"
      ]
     },
     "execution_count": 12,
     "metadata": {},
     "output_type": "execute_result"
    }
   ],
   "source": [
    "(defn percent-id-nontrivial\n",
    "    [m]\n",
    "    (let [queries (nontrivial-singleton-queries (vertices m))]\n",
    "        (/\n",
    "            (->>\n",
    "                queries\n",
    "                (map #(identifiable? m %))\n",
    "                (filter identity)\n",
    "                count)\n",
    "            (count queries))))"
   ]
  },
  {
   "cell_type": "code",
   "execution_count": null,
   "metadata": {},
   "outputs": [],
   "source": []
  }
 ],
 "metadata": {
  "kernelspec": {
   "display_name": "Lein-Clojure",
   "language": "clojure",
   "name": "lein-clojure"
  },
  "language_info": {
   "file_extension": ".clj",
   "mimetype": "text/x-clojure",
   "name": "clojure",
   "version": "1.8.0"
  }
 },
 "nbformat": 4,
 "nbformat_minor": 2
}
