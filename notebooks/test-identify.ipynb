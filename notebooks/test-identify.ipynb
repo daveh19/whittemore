{
 "cells": [
  {
   "cell_type": "markdown",
   "metadata": {},
   "source": [
    "## Test identify"
   ]
  },
  {
   "cell_type": "code",
   "execution_count": 1,
   "metadata": {},
   "outputs": [],
   "source": [
    "(require '[whittemore.core :refer [define model q data identify]]\n",
    "         '[clojure.pprint :refer [pprint]]\n",
    "         :reload)"
   ]
  },
  {
   "cell_type": "code",
   "execution_count": 2,
   "metadata": {
    "scrolled": true
   },
   "outputs": [
    {
     "data": {
      "text/html": [
       "<img src=\"data:image/svg+xml;base64,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\">"
      ]
     },
     "execution_count": 2,
     "metadata": {},
     "output_type": "execute_result"
    }
   ],
   "source": [
    "(define kidney\n",
    "  \"Model from Charig et. al. 1986\"\n",
    "  (model\n",
    "    {:size []\n",
    "     :treatment [:size]\n",
    "     :recovery [:treatment :size]}))"
   ]
  },
  {
   "cell_type": "code",
   "execution_count": 3,
   "metadata": {},
   "outputs": [
    {
     "data": {
      "text/latex": [
       "$$\\left[ \\sum_{\\text{size}} \\left[ \\sum_{\\text{recovery}, \\text{treatment}} P(\\text{recovery}, \\text{size}, \\text{treatment}) \\right] \\frac{P(\\text{recovery}, \\text{size}, \\text{treatment})}{\\left[ \\sum_{\\text{recovery}} P(\\text{recovery}, \\text{size}, \\text{treatment}) \\right]} \\right] \\\\ \\text{where: } \\text{(unbound)}$$"
      ]
     },
     "execution_count": 3,
     "metadata": {},
     "output_type": "execute_result"
    }
   ],
   "source": [
    "(identify\n",
    "    kidney\n",
    "    (q [:recovery] :do [:treatment]))"
   ]
  },
  {
   "cell_type": "markdown",
   "metadata": {},
   "source": [
    "Expected:\n",
    "\n",
    "$$ \\sum_\\text{size} P(\\text{size}) P(\\text{recovery} \\mid \\text{size}, \\text{treatment})$$\n",
    "\n",
    "$$ \\sum_{\\text{size}} P(\\text{recovery} \\mid \\text{size}, \\text{treatment}) P(\\text{size})$$"
   ]
  },
  {
   "cell_type": "code",
   "execution_count": 4,
   "metadata": {},
   "outputs": [
    {
     "data": {
      "text/html": [
       "<img src=\"data:image/svg+xml;base64,PD94bWwgdmVyc2lvbj0iMS4wIiBlbmNvZGluZz0iVVRGLTgiIHN0YW5kYWxvbmU9Im5vIj8+CjwhRE9DVFlQRSBzdmcgUFVCTElDICItLy9XM0MvL0RURCBTVkcgMS4xLy9FTiIKICJodHRwOi8vd3d3LnczLm9yZy9HcmFwaGljcy9TVkcvMS4xL0RURC9zdmcxMS5kdGQiPgo8IS0tIEdlbmVyYXRlZCBieSBncmFwaHZpeiB2ZXJzaW9uIDIuNDAuMSAoMjAxNjEyMjUuMDMwNCkKIC0tPgo8IS0tIFRpdGxlOiAlMyBQYWdlczogMSAtLT4KPHN2ZyB3aWR0aD0iMzA2cHQiIGhlaWdodD0iNjdwdCIKIHZpZXdCb3g9IjAuMDAgMC4wMCAzMDUuNTggNjcuMDAiIHhtbG5zPSJodHRwOi8vd3d3LnczLm9yZy8yMDAwL3N2ZyIgeG1sbnM6eGxpbms9Imh0dHA6Ly93d3cudzMub3JnLzE5OTkveGxpbmsiPgo8ZyBpZD0iZ3JhcGgwIiBjbGFzcz0iZ3JhcGgiIHRyYW5zZm9ybT0ic2NhbGUoMSAxKSByb3RhdGUoMCkgdHJhbnNsYXRlKDQgNjMpIj4KPHRpdGxlPiUzPC90aXRsZT4KPHBvbHlnb24gZmlsbD0iI2ZmZmZmZiIgc3Ryb2tlPSJ0cmFuc3BhcmVudCIgcG9pbnRzPSItNCw0IC00LC02MyAzMDEuNTg0OCwtNjMgMzAxLjU4NDgsNCAtNCw0Ii8+CjwhLS0gcmVjb3ZlcnkgLS0+CjxnIGlkPSJub2RlMSIgY2xhc3M9Im5vZGUiPgo8dGl0bGU+cmVjb3Zlcnk8L3RpdGxlPgo8ZWxsaXBzZSBmaWxsPSJub25lIiBzdHJva2U9IiMwMDAwMDAiIGN4PSIyNTUuOTg4NSIgY3k9Ii00MSIgcng9IjQxLjY5MjgiIHJ5PSIxOCIvPgo8dGV4dCB0ZXh0LWFuY2hvcj0ibWlkZGxlIiB4PSIyNTUuOTg4NSIgeT0iLTM3LjMiIGZvbnQtZmFtaWx5PSJUaW1lcyxzZXJpZiIgZm9udC1zaXplPSIxNC4wMCIgZmlsbD0iIzAwMDAwMCI+cmVjb3Zlcnk8L3RleHQ+CjwvZz4KPCEtLSBicCAtLT4KPGcgaWQ9Im5vZGUyIiBjbGFzcz0ibm9kZSI+Cjx0aXRsZT5icDwvdGl0bGU+CjxlbGxpcHNlIGZpbGw9Im5vbmUiIHN0cm9rZT0iIzAwMDAwMCIgY3g9IjE1MS4zOTIyIiBjeT0iLTE4IiByeD0iMjciIHJ5PSIxOCIvPgo8dGV4dCB0ZXh0LWFuY2hvcj0ibWlkZGxlIiB4PSIxNTEuMzkyMiIgeT0iLTE0LjMiIGZvbnQtZmFtaWx5PSJUaW1lcyxzZXJpZiIgZm9udC1zaXplPSIxNC4wMCIgZmlsbD0iIzAwMDAwMCI+YnA8L3RleHQ+CjwvZz4KPCEtLSBicCYjNDU7Jmd0O3JlY292ZXJ5IC0tPgo8ZyBpZD0iZWRnZTIiIGNsYXNzPSJlZGdlIj4KPHRpdGxlPmJwJiM0NTsmZ3Q7cmVjb3Zlcnk8L3RpdGxlPgo8cGF0aCBmaWxsPSJub25lIiBzdHJva2U9IiMwMDAwMDAiIGQ9Ik0xNzcuMjQ3NCwtMjMuNjg1NEMxODYuNzg4OCwtMjUuNzgzNSAxOTcuOTIzNywtMjguMjMyIDIwOC43NjQ5LC0zMC42MTU5Ii8+Cjxwb2x5Z29uIGZpbGw9IiMwMDAwMDAiIHN0cm9rZT0iIzAwMDAwMCIgcG9pbnRzPSIyMDguMDY2MSwtMzQuMDQ1OCAyMTguNTg0NSwtMzIuNzc1MSAyMDkuNTY5NSwtMjcuMjA5MSAyMDguMDY2MSwtMzQuMDQ1OCIvPgo8L2c+CjwhLS0gdHJlYXRtZW50IC0tPgo8ZyBpZD0ibm9kZTMiIGNsYXNzPSJub2RlIj4KPHRpdGxlPnRyZWF0bWVudDwvdGl0bGU+CjxlbGxpcHNlIGZpbGw9Im5vbmUiIHN0cm9rZT0iIzAwMDAwMCIgY3g9IjQ0LjE5NjEiIGN5PSItNDEiIHJ4PSI0NC4zOTMiIHJ5PSIxOCIvPgo8dGV4dCB0ZXh0LWFuY2hvcj0ibWlkZGxlIiB4PSI0NC4xOTYxIiB5PSItMzcuMyIgZm9udC1mYW1pbHk9IlRpbWVzLHNlcmlmIiBmb250LXNpemU9IjE0LjAwIiBmaWxsPSIjMDAwMDAwIj50cmVhdG1lbnQ8L3RleHQ+CjwvZz4KPCEtLSB0cmVhdG1lbnQmIzQ1OyZndDtyZWNvdmVyeSAtLT4KPGcgaWQ9ImVkZ2UxIiBjbGFzcz0iZWRnZSI+Cjx0aXRsZT50cmVhdG1lbnQmIzQ1OyZndDtyZWNvdmVyeTwvdGl0bGU+CjxwYXRoIGZpbGw9Im5vbmUiIHN0cm9rZT0iIzAwMDAwMCIgZD0iTTg4LjMwMjIsLTQzLjU5NTVDMTAwLjAyNzYsLTQ0LjE3NzMgMTEyLjY4NiwtNDQuNzA4MiAxMjQuMzkyMiwtNDUgMTQ4LjM4NDcsLTQ1LjU5OCAxNTQuNDAwMSwtNDUuNjE4IDE3OC4zOTIyLC00NSAxODYuODI0NSwtNDQuNzgyOCAxOTUuNzY3MSwtNDQuNDMzMSAyMDQuNDY3NywtNDQuMDI4NSIvPgo8cG9seWdvbiBmaWxsPSIjMDAwMDAwIiBzdHJva2U9IiMwMDAwMDAiIHBvaW50cz0iMjA0LjcwOTUsLTQ3LjUyMDkgMjE0LjUyNTEsLTQzLjUzMyAyMDQuMzY1LC00MC41Mjk0IDIwNC43MDk1LC00Ny41MjA5Ii8+CjwvZz4KPCEtLSB0cmVhdG1lbnQmIzQ1OyZndDticCAtLT4KPGcgaWQ9ImVkZ2UzIiBjbGFzcz0iZWRnZSI+Cjx0aXRsZT50cmVhdG1lbnQmIzQ1OyZndDticDwvdGl0bGU+CjxwYXRoIGZpbGw9Im5vbmUiIHN0cm9rZT0iIzAwMDAwMCIgZD0iTTgzLjUwMzMsLTMyLjU2NjJDOTMuOTksLTMwLjMxNjIgMTA1LjI2NDEsLTI3Ljg5NzIgMTE1LjU1MzYsLTI1LjY4OTUiLz4KPHBvbHlnb24gZmlsbD0iIzAwMDAwMCIgc3Ryb2tlPSIjMDAwMDAwIiBwb2ludHM9IjExNi40MDYyLC0yOS4wODYzIDEyNS40NDk0LC0yMy41NjYzIDExNC45Mzc2LC0yMi4yNDIxIDExNi40MDYyLC0yOS4wODYzIi8+CjwvZz4KPC9nPgo8L3N2Zz4K\">"
      ]
     },
     "execution_count": 4,
     "metadata": {},
     "output_type": "execute_result"
    }
   ],
   "source": [
    "(define blood-pressure\n",
    "  (model\n",
    "    {:recovery [:bp :treatment]\n",
    "     :bp [:treatment]\n",
    "     :treatment []}))"
   ]
  },
  {
   "cell_type": "code",
   "execution_count": 5,
   "metadata": {},
   "outputs": [
    {
     "data": {
      "text/latex": [
       "$$\\left[ \\sum_{\\text{bp}} \\frac{\\left[ \\sum_{\\text{recovery}} P(\\text{bp}, \\text{recovery}, \\text{treatment}) \\right]}{\\left[ \\sum_{\\text{bp}} \\left[ \\sum_{\\text{recovery}} P(\\text{bp}, \\text{recovery}, \\text{treatment}) \\right] \\right]} \\frac{P(\\text{bp}, \\text{recovery}, \\text{treatment})}{\\left[ \\sum_{\\text{recovery}} P(\\text{bp}, \\text{recovery}, \\text{treatment}) \\right]} \\right] \\\\ \\text{where: } \\text{(unbound)}$$"
      ]
     },
     "execution_count": 5,
     "metadata": {},
     "output_type": "execute_result"
    }
   ],
   "source": [
    "(identify\n",
    "  blood-pressure\n",
    "  (q [:recovery] :do [:treatment]))"
   ]
  },
  {
   "cell_type": "markdown",
   "metadata": {},
   "source": [
    "Expected:\n",
    "\n",
    "$$ \\sum_{bp} P(\\text{bp} \\mid \\text{treatment}) P(\\text{recovery} \\mid \\text{bp}, \\text{treatment})  $$\n",
    "\n",
    "$$ \\sum_{bp} P(\\text{recovery} \\mid \\text{bp}, \\text{treatment}) P(\\text{bp} \\mid \\text{treatment}) \\frac{P(\\text{treatment})}{P(\\text{treatment})}$$\n",
    "\n",
    "$$ \\sum_{bp} P(\\text{recovery}, \\text{bp} \\mid \\text{treatment}) $$\n",
    "\n",
    "$$ P(\\text{recovery} \\mid \\text{treatment}) $$\n"
   ]
  },
  {
   "cell_type": "code",
   "execution_count": 6,
   "metadata": {
    "scrolled": true
   },
   "outputs": [
    {
     "data": {
      "text/html": [
       "<img src=\"data:image/svg+xml;base64,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\">"
      ]
     },
     "execution_count": 6,
     "metadata": {},
     "output_type": "execute_result"
    }
   ],
   "source": [
    "(define wainer\n",
    "  \"See Causality, page 66\"\n",
    "  (model\n",
    "    {:z_0 []\n",
    "     :b [:z_0]\n",
    "     :z_1 [:z_0]\n",
    "     :x [:z_0]\n",
    "     :z_2 [:z_1 :x]\n",
    "     :z_3 [:z_2 :b]\n",
    "     :y [:x :z_2 :z_3]}))"
   ]
  },
  {
   "cell_type": "code",
   "execution_count": 7,
   "metadata": {},
   "outputs": [
    {
     "data": {
      "text/latex": [
       "$$\\left[ \\sum_{z_1, z_2, z_3} \\left[ \\sum_{x} \\frac{\\left[ \\sum_{z_2, z_3} \\left[ \\sum_{y} P(x, y, z_1, z_2, z_3) \\right] \\right]}{\\left[ \\sum_{z_1} \\left[ \\sum_{z_2, z_3} \\left[ \\sum_{y} P(x, y, z_1, z_2, z_3) \\right] \\right] \\right]} \\frac{\\left[ \\sum_{y} P(x, y, z_1, z_2, z_3) \\right]}{\\left[ \\sum_{z_3} \\left[ \\sum_{y} P(x, y, z_1, z_2, z_3) \\right] \\right]} \\frac{\\left[ \\sum_{z_1, z_2, z_3} \\left[ \\sum_{y} P(x, y, z_1, z_2, z_3) \\right] \\right]}{\\left[ \\sum_{x} \\left[ \\sum_{z_1, z_2, z_3} \\left[ \\sum_{y} P(x, y, z_1, z_2, z_3) \\right] \\right] \\right]} \\right] \\frac{\\left[ \\sum_{y, z_3} P(x, y, z_1, z_2, z_3) \\right]}{\\left[ \\sum_{z_2} \\left[ \\sum_{y, z_3} P(x, y, z_1, z_2, z_3) \\right] \\right]} \\frac{P(x, y, z_1, z_2, z_3)}{\\left[ \\sum_{y} P(x, y, z_1, z_2, z_3) \\right]} \\right] \\\\ \\text{where: } \\text{(unbound)}$$"
      ]
     },
     "execution_count": 7,
     "metadata": {},
     "output_type": "execute_result"
    }
   ],
   "source": [
    "(identify\n",
    "  wainer\n",
    "  (data [:x :y :z_1 :z_2 :z_3])\n",
    "  (q [:y] :do [:x]))"
   ]
  },
  {
   "cell_type": "markdown",
   "metadata": {},
   "source": [
    "Expected:\n",
    "\n",
    "$$\n",
    "  \\sum_{z_1, z_2, z_3}\n",
    "  \\left[ \\sum_x P(z_1 \\mid x) P(z_3 \\mid x_1, z_1, z_2) P(x) \\right]\n",
    "  P(z_2 \\mid x, z_1) P(y \\mid x, z_1, z_2, z_3) \n",
    "$$"
   ]
  },
  {
   "cell_type": "markdown",
   "metadata": {},
   "source": [
    "$$\n",
    "  \\sum_{z_1, z_2, z_3}\n",
    "  P(z_2 \\mid x, z_1) P(y \\mid x, z_1, z_2, z_3)\n",
    "  \\sum_x P(z_1 \\mid x) P(z_3 \\mid x_1, z_1, z_2) P(x)\n",
    "$$"
   ]
  },
  {
   "cell_type": "markdown",
   "metadata": {},
   "source": [
    "$$\n",
    "  \\sum_{z_1, z_2, z_3}\n",
    "  P(y \\mid x, z_1, z_2, z_3) P(z_2 \\mid x, z_1)\n",
    "  \\sum_x P(z_3 \\mid x_1, z_1, z_2) P(z_1 \\mid x) P(x)\n",
    "$$"
   ]
  },
  {
   "cell_type": "markdown",
   "metadata": {},
   "source": [
    "Note that $y \\perp\\!\\!\\perp z_1 \\mid x, z_2, z_3$, therefore $P(y \\mid x, z_1, z_2, z_3) = P(y \\mid z_2, z_3, x)$"
   ]
  },
  {
   "cell_type": "markdown",
   "metadata": {},
   "source": [
    "$$\n",
    "  \\sum_{z_1} \\sum_{z_2} \\sum_{z_3}\n",
    "  P(y \\mid z_2, z_3, x) P(z_2 \\mid z_1, x)\n",
    "  \\times \\sum_{x'} P(z_3 \\mid z_1, z_2, x') P(z_1, x')\n",
    "$$"
   ]
  },
  {
   "cell_type": "code",
   "execution_count": 8,
   "metadata": {},
   "outputs": [
    {
     "data": {
      "text/html": [
       "<img src=\"data:image/svg+xml;base64,PD94bWwgdmVyc2lvbj0iMS4wIiBlbmNvZGluZz0iVVRGLTgiIHN0YW5kYWxvbmU9Im5vIj8+CjwhRE9DVFlQRSBzdmcgUFVCTElDICItLy9XM0MvL0RURCBTVkcgMS4xLy9FTiIKICJodHRwOi8vd3d3LnczLm9yZy9HcmFwaGljcy9TVkcvMS4xL0RURC9zdmcxMS5kdGQiPgo8IS0tIEdlbmVyYXRlZCBieSBncmFwaHZpeiB2ZXJzaW9uIDIuNDAuMSAoMjAxNjEyMjUuMDMwNCkKIC0tPgo8IS0tIFRpdGxlOiAlMyBQYWdlczogMSAtLT4KPHN2ZyB3aWR0aD0iMzMycHQiIGhlaWdodD0iOTZwdCIKIHZpZXdCb3g9IjAuMDAgMC4wMCAzMzIuMDAgOTYuNDYiIHhtbG5zPSJodHRwOi8vd3d3LnczLm9yZy8yMDAwL3N2ZyIgeG1sbnM6eGxpbms9Imh0dHA6Ly93d3cudzMub3JnLzE5OTkveGxpbmsiPgo8ZyBpZD0iZ3JhcGgwIiBjbGFzcz0iZ3JhcGgiIHRyYW5zZm9ybT0ic2NhbGUoMSAxKSByb3RhdGUoMCkgdHJhbnNsYXRlKDQgOTIuNDU5MikiPgo8dGl0bGU+JTM8L3RpdGxlPgo8cG9seWdvbiBmaWxsPSIjZmZmZmZmIiBzdHJva2U9InRyYW5zcGFyZW50IiBwb2ludHM9Ii00LDQgLTQsLTkyLjQ1OTIgMzI4LC05Mi40NTkyIDMyOCw0IC00LDQiLz4KPCEtLSB5IC0tPgo8ZyBpZD0ibm9kZTEiIGNsYXNzPSJub2RlIj4KPHRpdGxlPnk8L3RpdGxlPgo8ZWxsaXBzZSBmaWxsPSJub25lIiBzdHJva2U9IiMwMDAwMDAiIGN4PSIxMTciIGN5PSItMzIuNDU5MiIgcng9IjI3IiByeT0iMTgiLz4KPHRleHQgdGV4dC1hbmNob3I9Im1pZGRsZSIgeD0iMTE3IiB5PSItMjguNzU5MiIgZm9udC1mYW1pbHk9IlRpbWVzLHNlcmlmIiBmb250LXNpemU9IjE0LjAwIiBmaWxsPSIjMDAwMDAwIj55PC90ZXh0Pgo8L2c+CjwhLS0gel8xIC0tPgo8ZyBpZD0ibm9kZTMiIGNsYXNzPSJub2RlIj4KPHRpdGxlPnpfMTwvdGl0bGU+CjxlbGxpcHNlIGZpbGw9Im5vbmUiIHN0cm9rZT0iIzAwMDAwMCIgY3g9IjIwNyIgY3k9Ii03MC40NTkyIiByeD0iMjciIHJ5PSIxOCIvPgo8dGV4dCB0ZXh0LWFuY2hvcj0ibWlkZGxlIiB4PSIyMDciIHk9Ii02Ni43NTkyIiBmb250LWZhbWlseT0iVGltZXMsc2VyaWYiIGZvbnQtc2l6ZT0iMTQuMDAiIGZpbGw9IiMwMDAwMDAiPnpfMTwvdGV4dD4KPC9nPgo8IS0tIHkmIzQ1OyZndDt6XzEgLS0+CjxnIGlkPSJlZGdlNiIgY2xhc3M9ImVkZ2UiPgo8dGl0bGU+eSYjNDU7Jmd0O3pfMTwvdGl0bGU+CjxwYXRoIGZpbGw9Im5vbmUiIHN0cm9rZT0iIzAwMDAwMCIgc3Ryb2tlLWRhc2hhcnJheT0iNSwyIiBkPSJNMTUyLjY1ODIsLTQwLjg5NTlDMTYxLjYzODksLTQ0LjQzMjYgMTcxLjEzODgsLTQ4LjU2MTMgMTc5LjY0MDcsLTUyLjY0MTQiLz4KPHBvbHlnb24gZmlsbD0ibm9uZSIgc3Ryb2tlPSIjMDAwMDAwIiBwb2ludHM9IjE1My42MjM1LC0zNy41MTkzIDE0My4wMzE3LC0zNy4yNjQ0IDE1MS4xNTI3LC00NC4wNjg4IDE1My42MjM1LC0zNy41MTkzIi8+Cjxwb2x5Z29uIGZpbGw9Im5vbmUiIHN0cm9rZT0iIzAwMDAwMCIgcG9pbnRzPSIxNzguMjI1NywtNTUuODQ3IDE4OC43MzQ2LC01Ny4xOTMyIDE4MS4zNTg4LC00OS41ODc0IDE3OC4yMjU3LC01NS44NDciLz4KPC9nPgo8IS0tIHpfMiAtLT4KPGcgaWQ9Im5vZGUyIiBjbGFzcz0ibm9kZSI+Cjx0aXRsZT56XzI8L3RpdGxlPgo8ZWxsaXBzZSBmaWxsPSJub25lIiBzdHJva2U9IiMwMDAwMDAiIGN4PSIyOTciIGN5PSItMjQuNDU5MiIgcng9IjI3IiByeT0iMTgiLz4KPHRleHQgdGV4dC1hbmNob3I9Im1pZGRsZSIgeD0iMjk3IiB5PSItMjAuNzU5MiIgZm9udC1mYW1pbHk9IlRpbWVzLHNlcmlmIiBmb250LXNpemU9IjE0LjAwIiBmaWxsPSIjMDAwMDAwIj56XzI8L3RleHQ+CjwvZz4KPCEtLSB6XzImIzQ1OyZndDt5IC0tPgo8ZyBpZD0iZWRnZTEiIGNsYXNzPSJlZGdlIj4KPHRpdGxlPnpfMiYjNDU7Jmd0O3k8L3RpdGxlPgo8cGF0aCBmaWxsPSJub25lIiBzdHJva2U9IiMwMDAwMDAiIGQ9Ik0yNjkuODY4LC0yNS42NjUxQzIzOS4wMzcsLTI3LjAzNTQgMTg4LjUzOTcsLTI5LjI3OTcgMTU0LjA4NTgsLTMwLjgxMSIvPgo8cG9seWdvbiBmaWxsPSIjMDAwMDAwIiBzdHJva2U9IiMwMDAwMDAiIHBvaW50cz0iMTUzLjc4MjUsLTI3LjMyMDkgMTQzLjk0NzgsLTMxLjI2MTUgMTU0LjA5MzQsLTM0LjMxNCAxNTMuNzgyNSwtMjcuMzIwOSIvPgo8L2c+CjwhLS0gel8xJiM0NTsmZ3Q7eSAtLT4KPGcgaWQ9ImVkZ2UyIiBjbGFzcz0iZWRnZSI+Cjx0aXRsZT56XzEmIzQ1OyZndDt5PC90aXRsZT4KPHBhdGggZmlsbD0ibm9uZSIgc3Ryb2tlPSIjMDAwMDAwIiBkPSJNMTgwLjg2ODIsLTY1LjYxODFDMTY5LjU1NTgsLTYxLjU1MDcgMTU2LjMwMDksLTU1Ljk4NzIgMTQ0LjgwNzIsLTUwLjQ5MTYiLz4KPHBvbHlnb24gZmlsbD0iIzAwMDAwMCIgc3Ryb2tlPSIjMDAwMDAwIiBwb2ludHM9IjE0Ni4xNTkyLC00Ny4yNTQ4IDEzNS42NDgxLC00NS45MjU2IDE0My4wMzYxLC01My41MTk1IDE0Ni4xNTkyLC00Ny4yNTQ4Ii8+CjwvZz4KPCEtLSB6XzEmIzQ1OyZndDt6XzIgLS0+CjxnIGlkPSJlZGdlNCIgY2xhc3M9ImVkZ2UiPgo8dGl0bGU+el8xJiM0NTsmZ3Q7el8yPC90aXRsZT4KPHBhdGggZmlsbD0ibm9uZSIgc3Ryb2tlPSIjMDAwMDAwIiBkPSJNMjI4Ljc4NjUsLTU5LjMyMzlDMjQwLjA2MjUsLTUzLjU2MDYgMjU0LjAxNjMsLTQ2LjQyODcgMjY2LjM1OTksLTQwLjExOTciLz4KPHBvbHlnb24gZmlsbD0iIzAwMDAwMCIgc3Ryb2tlPSIjMDAwMDAwIiBwb2ludHM9IjI2OC4xMDI3LC00My4xNTk3IDI3NS40MTQxLC0zNS40OTIgMjY0LjkxNjksLTM2LjkyNjYgMjY4LjEwMjcsLTQzLjE1OTciLz4KPC9nPgo8IS0tIHggLS0+CjxnIGlkPSJub2RlNCIgY2xhc3M9Im5vZGUiPgo8dGl0bGU+eDwvdGl0bGU+CjxlbGxpcHNlIGZpbGw9Im5vbmUiIHN0cm9rZT0iIzAwMDAwMCIgY3g9IjI3IiBjeT0iLTMyLjQ1OTIiIHJ4PSIyNyIgcnk9IjE4Ii8+Cjx0ZXh0IHRleHQtYW5jaG9yPSJtaWRkbGUiIHg9IjI3IiB5PSItMjguNzU5MiIgZm9udC1mYW1pbHk9IlRpbWVzLHNlcmlmIiBmb250LXNpemU9IjE0LjAwIiBmaWxsPSIjMDAwMDAwIj54PC90ZXh0Pgo8L2c+CjwhLS0geCYjNDU7Jmd0O3kgLS0+CjxnIGlkPSJlZGdlMyIgY2xhc3M9ImVkZ2UiPgo8dGl0bGU+eCYjNDU7Jmd0O3k8L3RpdGxlPgo8cGF0aCBmaWxsPSJub25lIiBzdHJva2U9IiMwMDAwMDAiIGQ9Ik01NC4wMDMsLTMyLjQ1OTJDNjIuMDI3NywtMzIuNDU5MiA3MC45NjY1LC0zMi40NTkyIDc5LjUzMDksLTMyLjQ1OTIiLz4KPHBvbHlnb24gZmlsbD0iIzAwMDAwMCIgc3Ryb2tlPSIjMDAwMDAwIiBwb2ludHM9Ijc5LjcwNTEsLTM1Ljk1OTMgODkuNzA1LC0zMi40NTkyIDc5LjcwNSwtMjguOTU5MyA3OS43MDUxLC0zNS45NTkzIi8+CjwvZz4KPCEtLSB4JiM0NTsmZ3Q7el8yIC0tPgo8ZyBpZD0iZWRnZTciIGNsYXNzPSJlZGdlIj4KPHRpdGxlPngmIzQ1OyZndDt6XzI8L3RpdGxlPgo8cGF0aCBmaWxsPSJub25lIiBzdHJva2U9IiMwMDAwMDAiIHN0cm9rZS1kYXNoYXJyYXk9IjUsMiIgZD0iTTU3LjExNzIsLTE2LjYyMDNDNjcuMjc3OSwtMTIuMDgwMyA3OC44Njk3LC03Ljc0MzggOTAsLTUuNDU5MiAxNDkuNjM5Miw2Ljc4MjIgMjIwLjU2OTYsLTUuMzYxOCAyNjIuMDA5NSwtMTUuMDY3NSIvPgo8cG9seWdvbiBmaWxsPSJub25lIiBzdHJva2U9IiMwMDAwMDAiIHBvaW50cz0iNTUuNDI5OCwtMTMuNTQ2MiA0Ny44NzU4LC0yMC45NzUxIDU4LjQxMzcsLTE5Ljg3ODQgNTUuNDI5OCwtMTMuNTQ2MiIvPgo8cG9seWdvbiBmaWxsPSJub25lIiBzdHJva2U9IiMwMDAwMDAiIHBvaW50cz0iMjYxLjM0MTMsLTE4LjUwNjkgMjcxLjg4NDksLTE3LjQ2NjIgMjYyLjk5MzYsLTExLjcwNDYgMjYxLjM0MTMsLTE4LjUwNjkiLz4KPC9nPgo8IS0tIHgmIzQ1OyZndDt6XzEgLS0+CjxnIGlkPSJlZGdlNSIgY2xhc3M9ImVkZ2UiPgo8dGl0bGU+eCYjNDU7Jmd0O3pfMTwvdGl0bGU+CjxwYXRoIGZpbGw9Im5vbmUiIHN0cm9rZT0iIzAwMDAwMCIgZD0iTTQ4LjI4MzUsLTQzLjU1MDZDNjAuMjI3MSwtNDkuMjY1NyA3NS41ODUzLC01NS43ODkgOTAsLTU5LjQ1OTIgMTE2LjA2MSwtNjYuMDk0NyAxNDYuMzAzMiwtNjguODEzMyAxNjkuNTExNiwtNjkuODg5NSIvPgo8cG9seWdvbiBmaWxsPSIjMDAwMDAwIiBzdHJva2U9IiMwMDAwMDAiIHBvaW50cz0iMTY5LjUxMzQsLTczLjM5MiAxNzkuNjM5NywtNzAuMjc2NSAxNjkuNzgwNywtNjYuMzk3MSAxNjkuNTEzNCwtNzMuMzkyIi8+CjwvZz4KPC9nPgo8L3N2Zz4K\">"
      ]
     },
     "execution_count": 8,
     "metadata": {},
     "output_type": "execute_result"
    }
   ],
   "source": [
    "(define causality-f\n",
    "  \"Causality, page 93\"\n",
    "  (model\n",
    "    {:y [:z_1 :z_2 :x]\n",
    "     :z_2 [:z_1]\n",
    "     :z_1 [:x]\n",
    "     :x []}\n",
    "    #{:y :z_1}\n",
    "    #{:x :z_2}))"
   ]
  },
  {
   "cell_type": "code",
   "execution_count": 9,
   "metadata": {},
   "outputs": [
    {
     "data": {
      "text/latex": [
       "$$\\left[ \\sum_{z_1, z_2} \\left[ \\sum_{x} \\frac{\\left[ \\sum_{z_1, z_2} \\left[ \\sum_{y} P(x, y, z_1, z_2) \\right] \\right]}{\\left[ \\sum_{x} \\left[ \\sum_{z_1, z_2} \\left[ \\sum_{y} P(x, y, z_1, z_2) \\right] \\right] \\right]} \\frac{\\left[ \\sum_{y} P(x, y, z_1, z_2) \\right]}{\\left[ \\sum_{z_2} \\left[ \\sum_{y} P(x, y, z_1, z_2) \\right] \\right]} \\right] \\frac{\\left[ \\sum_{y, z_2} P(x, y, z_1, z_2) \\right]}{\\left[ \\sum_{z_1} \\left[ \\sum_{y, z_2} P(x, y, z_1, z_2) \\right] \\right]} \\frac{P(x, y, z_1, z_2)}{\\left[ \\sum_{y} P(x, y, z_1, z_2) \\right]} \\right] \\\\ \\text{where: } \\text{(unbound)}$$"
      ]
     },
     "execution_count": 9,
     "metadata": {},
     "output_type": "execute_result"
    }
   ],
   "source": [
    "(identify\n",
    "  causality-f\n",
    "  (q [:y] :do [:x]))"
   ]
  },
  {
   "cell_type": "markdown",
   "metadata": {},
   "source": [
    "Expected:\n",
    "\n",
    "$$ \\sum_{z_1, z_2} \\left[ \\sum_x P(x) P(z_2 \\mid x, z_1) \\right] P(z_1 \\mid x) P(y \\mid x, z_1, z_2)$$\n",
    "\n",
    "$$ \\sum_{z_1, z_2} P(z_1 \\mid x) P(y \\mid x, z_1, z_2) \\sum_x P(x) P(z_2 \\mid x, z_1) $$\n",
    "\n",
    "$$ \\sum_{z_1, z_2} P(y \\mid z_1, z_2, x) P(z_1 \\mid x) \\sum_{x'} P(z_2 \\mid z_1, x') P(x') $$"
   ]
  },
  {
   "cell_type": "code",
   "execution_count": 10,
   "metadata": {},
   "outputs": [
    {
     "data": {
      "text/html": [
       "<img src=\"data:image/svg+xml;base64,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\">"
      ]
     },
     "execution_count": 10,
     "metadata": {},
     "output_type": "execute_result"
    }
   ],
   "source": [
    "(define causality-g\n",
    "  \"Causality, page 93\"\n",
    "  (model\n",
    "    {:z_2 []\n",
    "     :x [:z_2]\n",
    "     :z_1 [:x :z_2]\n",
    "     :z_3 [:z_2]\n",
    "     :y [:z_1 :z_3]}\n",
    "    #{:x :z_2}\n",
    "    #{:y :z_2}\n",
    "    #{:x :y}\n",
    "    #{:x :z_3}))"
   ]
  },
  {
   "cell_type": "code",
   "execution_count": 11,
   "metadata": {},
   "outputs": [
    {
     "data": {
      "text/latex": [
       "$$\\left[ \\sum_{z_1, z_2, z_3} \\frac{\\left[ \\sum_{z_1} \\left[ \\sum_{x} \\frac{\\left[ \\sum_{y, z_1} P(x, y, z_1, z_2, z_3) \\right]}{\\left[ \\sum_{z_3} \\left[ \\sum_{y, z_1} P(x, y, z_1, z_2, z_3) \\right] \\right]} \\frac{\\left[ \\sum_{x, y, z_1, z_3} P(x, y, z_1, z_2, z_3) \\right]}{\\left[ \\sum_{z_2} \\left[ \\sum_{x, y, z_1, z_3} P(x, y, z_1, z_2, z_3) \\right] \\right]} \\frac{\\left[ \\sum_{y, z_1, z_3} P(x, y, z_1, z_2, z_3) \\right]}{\\left[ \\sum_{x} \\left[ \\sum_{y, z_1, z_3} P(x, y, z_1, z_2, z_3) \\right] \\right]} \\frac{P(x, y, z_1, z_2, z_3)}{\\left[ \\sum_{y} P(x, y, z_1, z_2, z_3) \\right]} \\right] \\right]}{\\left[ \\sum_{y} \\left[ \\sum_{z_1} \\left[ \\sum_{x} \\frac{\\left[ \\sum_{y, z_1} P(x, y, z_1, z_2, z_3) \\right]}{\\left[ \\sum_{z_3} \\left[ \\sum_{y, z_1} P(x, y, z_1, z_2, z_3) \\right] \\right]} \\frac{\\left[ \\sum_{x, y, z_1, z_3} P(x, y, z_1, z_2, z_3) \\right]}{\\left[ \\sum_{z_2} \\left[ \\sum_{x, y, z_1, z_3} P(x, y, z_1, z_2, z_3) \\right] \\right]} \\frac{\\left[ \\sum_{y, z_1, z_3} P(x, y, z_1, z_2, z_3) \\right]}{\\left[ \\sum_{x} \\left[ \\sum_{y, z_1, z_3} P(x, y, z_1, z_2, z_3) \\right] \\right]} \\frac{P(x, y, z_1, z_2, z_3)}{\\left[ \\sum_{y} P(x, y, z_1, z_2, z_3) \\right]} \\right] \\right] \\right]} \\frac{\\left[ \\sum_{y, z_1, z_3} \\left[ \\sum_{x} \\frac{\\left[ \\sum_{y, z_1} P(x, y, z_1, z_2, z_3) \\right]}{\\left[ \\sum_{z_3} \\left[ \\sum_{y, z_1} P(x, y, z_1, z_2, z_3) \\right] \\right]} \\frac{\\left[ \\sum_{x, y, z_1, z_3} P(x, y, z_1, z_2, z_3) \\right]}{\\left[ \\sum_{z_2} \\left[ \\sum_{x, y, z_1, z_3} P(x, y, z_1, z_2, z_3) \\right] \\right]} \\frac{\\left[ \\sum_{y, z_1, z_3} P(x, y, z_1, z_2, z_3) \\right]}{\\left[ \\sum_{x} \\left[ \\sum_{y, z_1, z_3} P(x, y, z_1, z_2, z_3) \\right] \\right]} \\frac{P(x, y, z_1, z_2, z_3)}{\\left[ \\sum_{y} P(x, y, z_1, z_2, z_3) \\right]} \\right] \\right]}{\\left[ \\sum_{z_2} \\left[ \\sum_{y, z_1, z_3} \\left[ \\sum_{x} \\frac{\\left[ \\sum_{y, z_1} P(x, y, z_1, z_2, z_3) \\right]}{\\left[ \\sum_{z_3} \\left[ \\sum_{y, z_1} P(x, y, z_1, z_2, z_3) \\right] \\right]} \\frac{\\left[ \\sum_{x, y, z_1, z_3} P(x, y, z_1, z_2, z_3) \\right]}{\\left[ \\sum_{z_2} \\left[ \\sum_{x, y, z_1, z_3} P(x, y, z_1, z_2, z_3) \\right] \\right]} \\frac{\\left[ \\sum_{y, z_1, z_3} P(x, y, z_1, z_2, z_3) \\right]}{\\left[ \\sum_{x} \\left[ \\sum_{y, z_1, z_3} P(x, y, z_1, z_2, z_3) \\right] \\right]} \\frac{P(x, y, z_1, z_2, z_3)}{\\left[ \\sum_{y} P(x, y, z_1, z_2, z_3) \\right]} \\right] \\right] \\right]} \\frac{\\left[ \\sum_{y, z_3} P(x, y, z_1, z_2, z_3) \\right]}{\\left[ \\sum_{z_1} \\left[ \\sum_{y, z_3} P(x, y, z_1, z_2, z_3) \\right] \\right]} \\frac{\\left[ \\sum_{x, y, z_1} P(x, y, z_1, z_2, z_3) \\right]}{\\left[ \\sum_{z_3} \\left[ \\sum_{x, y, z_1} P(x, y, z_1, z_2, z_3) \\right] \\right]} \\right] \\\\ \\text{where: } \\text{(unbound)}$$"
      ]
     },
     "execution_count": 11,
     "metadata": {},
     "output_type": "execute_result"
    }
   ],
   "source": [
    "(identify\n",
    "    causality-g\n",
    "    (q [:y] :do [:x]))"
   ]
  },
  {
   "cell_type": "markdown",
   "metadata": {},
   "source": [
    "Equals:\n",
    "\n",
    "$$ \\sum_{z_1, z_2, z_3} \\frac{\\sum_{z_1, x} P(z_3 | x, z_2) P(z_2) P(x | z_2) P(y | x, z_1, z_2, z_3)}{\\sum_y ...} $$\n",
    "$$ \\times \\frac{\\sum_{y, z_1, z_3} \\sum_x P(z_3 | x, z_2) P(z_2) P(x | z_2) P(y | x, z_1, z_2, z_3)}{\\sum_{z_2} ...} $$\n",
    "$$ \\times P(z_1 | x, z_2) P(z_3 | z_2)$$"
   ]
  },
  {
   "cell_type": "markdown",
   "metadata": {},
   "source": [
    "$$ \\sum_{z_1, z_2, z_3} \\frac{ \\sum_{z_1, x} P(y | x, z_1, z_2, z_3) P(x, z_2, z_3) }{ \\sum_y ...}$$\n",
    "$$ \\times \\frac{ \\sum_{x, y, z_1, z_3} P(y | x, z_1, z_2, z_3) P(x, z_2, z_3) }{ \\sum_{z_2 ...}}$$\n",
    "$$ \\times P(z_1 | x, z_2) P(z_3 | z_2) $$"
   ]
  },
  {
   "cell_type": "markdown",
   "metadata": {},
   "source": [
    "Note: $ x \\perp\\!\\!\\!\\perp z_2 | z_1, z_3 $"
   ]
  },
  {
   "cell_type": "markdown",
   "metadata": {},
   "source": [
    "Fully simplified:\n",
    "\n",
    "$$ \\sum_{z_1} \\sum_{z_2} \\sum_{x'} P(y \\mid z_1, z_2, x') P(x' \\mid z_2) \\times P(z_1 \\mid z_2, x) P(z_2) $$"
   ]
  },
  {
   "cell_type": "code",
   "execution_count": 12,
   "metadata": {
    "scrolled": false
   },
   "outputs": [
    {
     "name": "stdout",
     "output_type": "stream",
     "text": [
      "{:form\n",
      " {:sub #{:z_2 :z_1 :z_3},\n",
      "  :sum\n",
      "  {:prod\n",
      "   #{{:prod\n",
      "      #{{:numer\n",
      "         {:sub #{:z_1},\n",
      "          :sum\n",
      "          {:sub #{:x},\n",
      "           :sum\n",
      "           {:prod\n",
      "            #{{:numer\n",
      "               {:sub #{:y :z_1}, :sum {:p #{:y :z_2 :z_1 :x :z_3}}},\n",
      "               :denom\n",
      "               {:sub #{:z_3},\n",
      "                :sum\n",
      "                {:sub #{:y :z_1}, :sum {:p #{:y :z_2 :z_1 :x :z_3}}}}}\n",
      "              {:numer\n",
      "               {:sub #{:y :z_1 :x :z_3},\n",
      "                :sum {:p #{:y :z_2 :z_1 :x :z_3}}},\n",
      "               :denom\n",
      "               {:sub #{:z_2},\n",
      "                :sum\n",
      "                {:sub #{:y :z_1 :x :z_3},\n",
      "                 :sum {:p #{:y :z_2 :z_1 :x :z_3}}}}}\n",
      "              {:numer\n",
      "               {:sub #{:y :z_1 :z_3},\n",
      "                :sum {:p #{:y :z_2 :z_1 :x :z_3}}},\n",
      "               :denom\n",
      "               {:sub #{:x},\n",
      "                :sum\n",
      "                {:sub #{:y :z_1 :z_3},\n",
      "                 :sum {:p #{:y :z_2 :z_1 :x :z_3}}}}}\n",
      "              {:numer {:p #{:y :z_2 :z_1 :x :z_3}},\n",
      "               :denom\n",
      "               {:sub #{:y}, :sum {:p #{:y :z_2 :z_1 :x :z_3}}}}}}}},\n",
      "         :denom\n",
      "         {:sub #{:y},\n",
      "          :sum\n",
      "          {:sub #{:z_1},\n",
      "           :sum\n",
      "           {:sub #{:x},\n",
      "            :sum\n",
      "            {:prod\n",
      "             #{{:numer\n",
      "                {:sub #{:y :z_1}, :sum {:p #{:y :z_2 :z_1 :x :z_3}}},\n",
      "                :denom\n",
      "                {:sub #{:z_3},\n",
      "                 :sum\n",
      "                 {:sub #{:y :z_1}, :sum {:p #{:y :z_2 :z_1 :x :z_3}}}}}\n",
      "               {:numer\n",
      "                {:sub #{:y :z_1 :x :z_3},\n",
      "                 :sum {:p #{:y :z_2 :z_1 :x :z_3}}},\n",
      "                :denom\n",
      "                {:sub #{:z_2},\n",
      "                 :sum\n",
      "                 {:sub #{:y :z_1 :x :z_3},\n",
      "                  :sum {:p #{:y :z_2 :z_1 :x :z_3}}}}}\n",
      "               {:numer\n",
      "                {:sub #{:y :z_1 :z_3},\n",
      "                 :sum {:p #{:y :z_2 :z_1 :x :z_3}}},\n",
      "                :denom\n",
      "                {:sub #{:x},\n",
      "                 :sum\n",
      "                 {:sub #{:y :z_1 :z_3},\n",
      "                  :sum {:p #{:y :z_2 :z_1 :x :z_3}}}}}\n",
      "               {:numer {:p #{:y :z_2 :z_1 :x :z_3}},\n",
      "                :denom\n",
      "                {:sub #{:y}, :sum {:p #{:y :z_2 :z_1 :x :z_3}}}}}}}}}}\n",
      "        {:numer\n",
      "         {:sub #{:y :z_1 :z_3},\n",
      "          :sum\n",
      "          {:sub #{:x},\n",
      "           :sum\n",
      "           {:prod\n",
      "            #{{:numer\n",
      "               {:sub #{:y :z_1}, :sum {:p #{:y :z_2 :z_1 :x :z_3}}},\n",
      "               :denom\n",
      "               {:sub #{:z_3},\n",
      "                :sum\n",
      "                {:sub #{:y :z_1}, :sum {:p #{:y :z_2 :z_1 :x :z_3}}}}}\n",
      "              {:numer\n",
      "               {:sub #{:y :z_1 :x :z_3},\n",
      "                :sum {:p #{:y :z_2 :z_1 :x :z_3}}},\n",
      "               :denom\n",
      "               {:sub #{:z_2},\n",
      "                :sum\n",
      "                {:sub #{:y :z_1 :x :z_3},\n",
      "                 :sum {:p #{:y :z_2 :z_1 :x :z_3}}}}}\n",
      "              {:numer\n",
      "               {:sub #{:y :z_1 :z_3},\n",
      "                :sum {:p #{:y :z_2 :z_1 :x :z_3}}},\n",
      "               :denom\n",
      "               {:sub #{:x},\n",
      "                :sum\n",
      "                {:sub #{:y :z_1 :z_3},\n",
      "                 :sum {:p #{:y :z_2 :z_1 :x :z_3}}}}}\n",
      "              {:numer {:p #{:y :z_2 :z_1 :x :z_3}},\n",
      "               :denom\n",
      "               {:sub #{:y}, :sum {:p #{:y :z_2 :z_1 :x :z_3}}}}}}}},\n",
      "         :denom\n",
      "         {:sub #{:z_2},\n",
      "          :sum\n",
      "          {:sub #{:y :z_1 :z_3},\n",
      "           :sum\n",
      "           {:sub #{:x},\n",
      "            :sum\n",
      "            {:prod\n",
      "             #{{:numer\n",
      "                {:sub #{:y :z_1}, :sum {:p #{:y :z_2 :z_1 :x :z_3}}},\n",
      "                :denom\n",
      "                {:sub #{:z_3},\n",
      "                 :sum\n",
      "                 {:sub #{:y :z_1}, :sum {:p #{:y :z_2 :z_1 :x :z_3}}}}}\n",
      "               {:numer\n",
      "                {:sub #{:y :z_1 :x :z_3},\n",
      "                 :sum {:p #{:y :z_2 :z_1 :x :z_3}}},\n",
      "                :denom\n",
      "                {:sub #{:z_2},\n",
      "                 :sum\n",
      "                 {:sub #{:y :z_1 :x :z_3},\n",
      "                  :sum {:p #{:y :z_2 :z_1 :x :z_3}}}}}\n",
      "               {:numer\n",
      "                {:sub #{:y :z_1 :z_3},\n",
      "                 :sum {:p #{:y :z_2 :z_1 :x :z_3}}},\n",
      "                :denom\n",
      "                {:sub #{:x},\n",
      "                 :sum\n",
      "                 {:sub #{:y :z_1 :z_3},\n",
      "                  :sum {:p #{:y :z_2 :z_1 :x :z_3}}}}}\n",
      "               {:numer {:p #{:y :z_2 :z_1 :x :z_3}},\n",
      "                :denom\n",
      "                {:sub #{:y},\n",
      "                 :sum {:p #{:y :z_2 :z_1 :x :z_3}}}}}}}}}}}}\n",
      "     {:numer {:sub #{:y :z_3}, :sum {:p #{:y :z_2 :z_1 :x :z_3}}},\n",
      "      :denom\n",
      "      {:sub #{:z_1},\n",
      "       :sum {:sub #{:y :z_3}, :sum {:p #{:y :z_2 :z_1 :x :z_3}}}}}\n",
      "     {:numer {:sub #{:y :z_1 :x}, :sum {:p #{:y :z_2 :z_1 :x :z_3}}},\n",
      "      :denom\n",
      "      {:sub #{:z_3},\n",
      "       :sum\n",
      "       {:sub #{:y :z_1 :x}, :sum {:p #{:y :z_2 :z_1 :x :z_3}}}}}}}}}\n"
     ]
    }
   ],
   "source": [
    "(pprint\n",
    "  (identify\n",
    "    causality-g\n",
    "    (q [:y] :do [:x])))"
   ]
  },
  {
   "cell_type": "markdown",
   "metadata": {},
   "source": [
    "Should throw exception (args out of order):"
   ]
  },
  {
   "cell_type": "code",
   "execution_count": 13,
   "metadata": {},
   "outputs": [
    {
     "name": "stdout",
     "output_type": "stream",
     "text": [
      "ExceptionInfo Unsupported Data type (check args)  clojure.core/ex-info (core.clj:4617)\n"
     ]
    },
    {
     "ename": "class clojure.lang.ExceptionInfo",
     "evalue": "",
     "output_type": "error",
     "traceback": [
      "               core.clj:  4617 clojure.core$ex_info/invokeStatic                      ",
      "               core.clj:   564 whittemore.core$identify/invokeStatic                  ",
      "               core.clj:   538 whittemore.core$identify/invoke                        ",
      "               core.clj:  3105 clojure.core$eval/invokeStatic                         ",
      "               core.clj:  3101 clojure.core$eval/invoke                               ",
      "               main.clj:   240 clojure.main$repl$read_eval_print__7408$fn__7411/invoke",
      "               main.clj:   258 clojure.main$repl$fn__7417/invoke                      ",
      "               main.clj:   174 clojure.main$repl/doInvoke                             ",
      "            RestFn.java:  1523 clojure.lang.RestFn/invoke                             ",
      "               AFn.java:   152 clojure.lang.AFn/applyToHelper                         ",
      "               AFn.java:   144 clojure.lang.AFn/applyTo                               ",
      "               core.clj:   646 clojure.core$apply/invokeStatic                        ",
      "               core.clj:  1881 clojure.core$with_bindings_STAR_/invokeStatic          ",
      "            RestFn.java:   425 clojure.lang.RestFn/invoke                             ",
      "               AFn.java:    22 clojure.lang.AFn/run                                   ",
      "ThreadPoolExecutor.java:  1149 java.util.concurrent.ThreadPoolExecutor/runWorker      ",
      "ThreadPoolExecutor.java:   624 java.util.concurrent.ThreadPoolExecutor$Worker/run     ",
      "            Thread.java:   748 java.lang.Thread/run                                   "
     ]
    }
   ],
   "source": [
    "(identify\n",
    "  wainer\n",
    "  (q [:y] :do [:x])\n",
    "  (data [:x :y]))"
   ]
  },
  {
   "cell_type": "code",
   "execution_count": null,
   "metadata": {},
   "outputs": [],
   "source": []
  }
 ],
 "metadata": {
  "kernelspec": {
   "display_name": "Lein-Clojure",
   "language": "clojure",
   "name": "lein-clojure"
  },
  "language_info": {
   "file_extension": ".clj",
   "mimetype": "text/x-clojure",
   "name": "clojure",
   "version": "1.8.0"
  }
 },
 "nbformat": 4,
 "nbformat_minor": 2
}
