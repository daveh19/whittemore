{
 "cells": [
  {
   "cell_type": "markdown",
   "metadata": {},
   "source": [
    "## Test infer"
   ]
  },
  {
   "cell_type": "code",
   "execution_count": 1,
   "metadata": {},
   "outputs": [],
   "source": [
    "(require '[whittemore.core\n",
    "           :refer [define model q data identify all-vals\n",
    "                   estimate categorical infer measure]]\n",
    "         '[clojure.pprint :refer [pprint]]\n",
    "         '[whittemore.io :refer [read-csv head tail]]\n",
    "         '[whittemore.plot :refer [plot-univariate plot-p-map]]\n",
    "         '[whittemore.util :refer [map-vals]]\n",
    "         '[clojure.repl :refer [doc]]\n",
    "         :reload)"
   ]
  },
  {
   "cell_type": "code",
   "execution_count": 2,
   "metadata": {},
   "outputs": [
    {
     "data": {
      "text/html": [
       "<img src=\"data:image/svg+xml;base64,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\">"
      ]
     },
     "execution_count": 2,
     "metadata": {},
     "output_type": "execute_result"
    }
   ],
   "source": [
    "(define awesome\n",
    "  \"An awesome model\"\n",
    "  (model\n",
    "    {:z [:x]\n",
    "     :x []\n",
    "     :y [:z]}\n",
    "    #{:x :y}))"
   ]
  },
  {
   "cell_type": "code",
   "execution_count": 3,
   "metadata": {},
   "outputs": [
    {
     "data": {
      "text/plain": [
       "700"
      ]
     },
     "execution_count": 3,
     "metadata": {},
     "output_type": "execute_result"
    }
   ],
   "source": [
    "(def kidney-dataset (read-csv \"data/renal-calculi.csv\"))\n",
    "\n",
    "(count kidney-dataset)"
   ]
  },
  {
   "cell_type": "code",
   "execution_count": 4,
   "metadata": {},
   "outputs": [
    {
     "data": {
      "text/html": [
       "<table class=\"dataframe\">\n",
       "<thead>\n",
       "<tr><th>:size</th><th>:success</th><th>:treatment</th></tr>\n",
       "</thead>\n",
       "<tbody>\n",
       "<tr><td>\"small\"</td><td>\"yes\"</td><td>\"surgery\"</td></tr>\n",
       "<tr><td>\"large\"</td><td>\"yes\"</td><td>\"nephrolithotomy\"</td></tr>\n",
       "<tr><td>\"small\"</td><td>\"yes\"</td><td>\"surgery\"</td></tr>\n",
       "<tr><td>\"small\"</td><td>\"yes\"</td><td>\"surgery\"</td></tr>\n",
       "<tr><td>\"large\"</td><td>\"yes\"</td><td>\"nephrolithotomy\"</td></tr>\n",
       "<tr><td>\"large\"</td><td>\"yes\"</td><td>\"surgery\"</td></tr>\n",
       "<tr><td>\"small\"</td><td>\"yes\"</td><td>\"nephrolithotomy\"</td></tr>\n",
       "<tr><td>\"small\"</td><td>\"yes\"</td><td>\"surgery\"</td></tr>\n",
       "<tr><td>\"large\"</td><td>\"no\"</td><td>\"nephrolithotomy\"</td></tr>\n",
       "<tr><td>\"large\"</td><td>\"yes\"</td><td>\"nephrolithotomy\"</td></tr>\n",
       "</tbody>\n",
       "</table>\n"
      ]
     },
     "execution_count": 4,
     "metadata": {},
     "output_type": "execute_result"
    }
   ],
   "source": [
    "(head kidney-dataset)"
   ]
  },
  {
   "cell_type": "code",
   "execution_count": 5,
   "metadata": {},
   "outputs": [
    {
     "data": {
      "text/plain": [
       "{:size #{\"small\" \"large\"}, :success #{\"yes\" \"no\"}, :treatment #{\"surgery\" \"nephrolithotomy\"}}"
      ]
     },
     "execution_count": 5,
     "metadata": {},
     "output_type": "execute_result"
    }
   ],
   "source": [
    "(def kidney-distribution\n",
    "  (categorical kidney-dataset))\n",
    "\n",
    "(:support kidney-distribution)"
   ]
  },
  {
   "cell_type": "code",
   "execution_count": 6,
   "metadata": {},
   "outputs": [
    {
     "data": {
      "text/plain": [
       "#whittemore.core.Categorical{:pmf {{:size \"small\", :success \"yes\", :treatment \"surgery\"} 0.11571428571428571, {:size \"small\", :success \"yes\", :treatment \"nephrolithotomy\"} 0.3342857142857143, {:size \"small\", :success \"no\", :treatment \"surgery\"} 0.008571428571428572, {:size \"small\", :success \"no\", :treatment \"nephrolithotomy\"} 0.05142857142857143, {:size \"large\", :success \"yes\", :treatment \"surgery\"} 0.2742857142857143, {:size \"large\", :success \"yes\", :treatment \"nephrolithotomy\"} 0.07857142857142857, {:size \"large\", :success \"no\", :treatment \"surgery\"} 0.10142857142857142, {:size \"large\", :success \"no\", :treatment \"nephrolithotomy\"} 0.03571428571428571}}"
      ]
     },
     "execution_count": 6,
     "metadata": {},
     "output_type": "execute_result"
    }
   ],
   "source": [
    "(define kidney-pmf\n",
    "  (estimate kidney-distribution\n",
    "    (q [:success :treatment :size])))"
   ]
  },
  {
   "cell_type": "code",
   "execution_count": 7,
   "metadata": {},
   "outputs": [
    {
     "data": {
      "text/plain": [
       "{:size #{\"small\" \"large\"}, :success #{\"yes\" \"no\"}, :treatment #{\"surgery\" \"nephrolithotomy\"}}"
      ]
     },
     "execution_count": 7,
     "metadata": {},
     "output_type": "execute_result"
    }
   ],
   "source": [
    "(-> kidney-pmf :pmf keys all-vals)"
   ]
  },
  {
   "cell_type": "code",
   "execution_count": 8,
   "metadata": {},
   "outputs": [
    {
     "data": {
      "image/png": "[encoded data removed]"
     },
     "execution_count": 8,
     "metadata": {},
     "output_type": "execute_result"
    }
   ],
   "source": [
    "(plot-univariate kidney-pmf :success)"
   ]
  },
  {
   "cell_type": "markdown",
   "metadata": {},
   "source": [
    "### Simpson's paradox"
   ]
  },
  {
   "cell_type": "code",
   "execution_count": 9,
   "metadata": {},
   "outputs": [
    {
     "name": "stdout",
     "output_type": "stream",
     "text": [
      "0.78 < 0.8257142857142857 => true\n"
     ]
    }
   ],
   "source": [
    "(let [a (estimate kidney-distribution\n",
    "          (q {:success \"yes\"} :given {:treatment \"surgery\"}))\n",
    "      b (estimate kidney-distribution\n",
    "          (q {:success \"yes\"} :given {:treatment \"nephrolithotomy\"}))]\n",
    "  (println a \"<\" b \"=>\" (< a b)))"
   ]
  },
  {
   "cell_type": "code",
   "execution_count": 10,
   "metadata": {},
   "outputs": [
    {
     "name": "stdout",
     "output_type": "stream",
     "text": [
      "0.9310344827586207 < 0.8666666666666667 => false\n"
     ]
    }
   ],
   "source": [
    "(let [a (estimate kidney-distribution\n",
    "          (q {:success \"yes\"} :given {:treatment \"surgery\"\n",
    "                                      :size \"small\"}))\n",
    "      b (estimate kidney-distribution\n",
    "          (q {:success \"yes\"} :given {:treatment \"nephrolithotomy\"\n",
    "                                      :size \"small\"}))]\n",
    "  (println a \"<\" b \"=>\" (< a b)))"
   ]
  },
  {
   "cell_type": "code",
   "execution_count": 11,
   "metadata": {},
   "outputs": [
    {
     "name": "stdout",
     "output_type": "stream",
     "text": [
      "0.7300380228136882 < 0.6875 => false\n"
     ]
    }
   ],
   "source": [
    "(let [a (estimate kidney-distribution\n",
    "          (q {:success \"yes\"} :given {:treatment \"surgery\"\n",
    "                                      :size \"large\"}))\n",
    "      b (estimate kidney-distribution\n",
    "          (q {:success \"yes\"} :given {:treatment \"nephrolithotomy\"\n",
    "                                      :size \"large\"}))]\n",
    "  (println a \"<\" b \"=>\" (< a b)))"
   ]
  },
  {
   "cell_type": "code",
   "execution_count": 12,
   "metadata": {},
   "outputs": [
    {
     "data": {
      "text/html": [
       "<img src=\"data:image/svg+xml;base64,PD94bWwgdmVyc2lvbj0iMS4wIiBlbmNvZGluZz0iVVRGLTgiIHN0YW5kYWxvbmU9Im5vIj8+CjwhRE9DVFlQRSBzdmcgUFVCTElDICItLy9XM0MvL0RURCBTVkcgMS4xLy9FTiIKICJodHRwOi8vd3d3LnczLm9yZy9HcmFwaGljcy9TVkcvMS4xL0RURC9zdmcxMS5kdGQiPgo8IS0tIEdlbmVyYXRlZCBieSBncmFwaHZpeiB2ZXJzaW9uIDIuNDAuMSAoMjAxNjEyMjUuMDMwNCkKIC0tPgo8IS0tIFRpdGxlOiAlMyBQYWdlczogMSAtLT4KPHN2ZyB3aWR0aD0iMjk2cHQiIGhlaWdodD0iNjdwdCIKIHZpZXdCb3g9IjAuMDAgMC4wMCAyOTYuNDkgNjcuMDAiIHhtbG5zPSJodHRwOi8vd3d3LnczLm9yZy8yMDAwL3N2ZyIgeG1sbnM6eGxpbms9Imh0dHA6Ly93d3cudzMub3JnLzE5OTkveGxpbmsiPgo8ZyBpZD0iZ3JhcGgwIiBjbGFzcz0iZ3JhcGgiIHRyYW5zZm9ybT0ic2NhbGUoMSAxKSByb3RhdGUoMCkgdHJhbnNsYXRlKDQgNjMpIj4KPHRpdGxlPiUzPC90aXRsZT4KPHBvbHlnb24gZmlsbD0iI2ZmZmZmZiIgc3Ryb2tlPSJ0cmFuc3BhcmVudCIgcG9pbnRzPSItNCw0IC00LC02MyAyOTIuNDg1NiwtNjMgMjkyLjQ4NTYsNCAtNCw0Ii8+CjwhLS0gc2l6ZSAtLT4KPGcgaWQ9Im5vZGUxIiBjbGFzcz0ibm9kZSI+Cjx0aXRsZT5zaXplPC90aXRsZT4KPGVsbGlwc2UgZmlsbD0ibm9uZSIgc3Ryb2tlPSIjMDAwMDAwIiBjeD0iMjciIGN5PSItMTgiIHJ4PSIyNyIgcnk9IjE4Ii8+Cjx0ZXh0IHRleHQtYW5jaG9yPSJtaWRkbGUiIHg9IjI3IiB5PSItMTQuMyIgZm9udC1mYW1pbHk9IlRpbWVzLHNlcmlmIiBmb250LXNpemU9IjE0LjAwIiBmaWxsPSIjMDAwMDAwIj5zaXplPC90ZXh0Pgo8L2c+CjwhLS0gdHJlYXRtZW50IC0tPgo8ZyBpZD0ibm9kZTIiIGNsYXNzPSJub2RlIj4KPHRpdGxlPnRyZWF0bWVudDwvdGl0bGU+CjxlbGxpcHNlIGZpbGw9Im5vbmUiIHN0cm9rZT0iIzAwMDAwMCIgY3g9IjEzNC4xOTYxIiBjeT0iLTQxIiByeD0iNDQuMzkzIiByeT0iMTgiLz4KPHRleHQgdGV4dC1hbmNob3I9Im1pZGRsZSIgeD0iMTM0LjE5NjEiIHk9Ii0zNy4zIiBmb250LWZhbWlseT0iVGltZXMsc2VyaWYiIGZvbnQtc2l6ZT0iMTQuMDAiIGZpbGw9IiMwMDAwMDAiPnRyZWF0bWVudDwvdGV4dD4KPC9nPgo8IS0tIHNpemUmIzQ1OyZndDt0cmVhdG1lbnQgLS0+CjxnIGlkPSJlZGdlMSIgY2xhc3M9ImVkZ2UiPgo8dGl0bGU+c2l6ZSYjNDU7Jmd0O3RyZWF0bWVudDwvdGl0bGU+CjxwYXRoIGZpbGw9Im5vbmUiIHN0cm9rZT0iIzAwMDAwMCIgZD0iTTUyLjk0OTIsLTIzLjU2NzdDNjIuNjI3LC0yNS42NDQxIDczLjk2MSwtMjguMDc1OSA4NS4wNDAxLC0zMC40NTMxIi8+Cjxwb2x5Z29uIGZpbGw9IiMwMDAwMDAiIHN0cm9rZT0iIzAwMDAwMCIgcG9pbnRzPSI4NC41NzY1LC0zMy45MzMyIDk1LjA4ODMsLTMyLjYwOSA4Ni4wNDUxLC0yNy4wODkgODQuNTc2NSwtMzMuOTMzMiIvPgo8L2c+CjwhLS0gc3VjY2VzcyAtLT4KPGcgaWQ9Im5vZGUzIiBjbGFzcz0ibm9kZSI+Cjx0aXRsZT5zdWNjZXNzPC90aXRsZT4KPGVsbGlwc2UgZmlsbD0ibm9uZSIgc3Ryb2tlPSIjMDAwMDAwIiBjeD0iMjUxLjQzODkiIGN5PSItMTgiIHJ4PSIzNy4wOTM1IiByeT0iMTgiLz4KPHRleHQgdGV4dC1hbmNob3I9Im1pZGRsZSIgeD0iMjUxLjQzODkiIHk9Ii0xNC4zIiBmb250LWZhbWlseT0iVGltZXMsc2VyaWYiIGZvbnQtc2l6ZT0iMTQuMDAiIGZpbGw9IiMwMDAwMDAiPnN1Y2Nlc3M8L3RleHQ+CjwvZz4KPCEtLSBzaXplJiM0NTsmZ3Q7c3VjY2VzcyAtLT4KPGcgaWQ9ImVkZ2UzIiBjbGFzcz0iZWRnZSI+Cjx0aXRsZT5zaXplJiM0NTsmZ3Q7c3VjY2VzczwvdGl0bGU+CjxwYXRoIGZpbGw9Im5vbmUiIHN0cm9rZT0iIzAwMDAwMCIgZD0iTTUzLjk2MDYsLTE1LjkxMTNDNjUuMTA4NSwtMTUuMTQ1NyA3OC4xNjk3LC0xNC4zNzUyIDkwLC0xNCAxMjkuMjY1NywtMTIuNzU0NyAxMzkuMTIxNCwtMTIuOTI1NiAxNzguMzkyMiwtMTQgMTg2Ljg3ODYsLTE0LjIzMjIgMTk1LjkxMzUsLTE0LjYxNTggMjA0LjYzMTcsLTE1LjA1NiIvPgo8cG9seWdvbiBmaWxsPSIjMDAwMDAwIiBzdHJva2U9IiMwMDAwMDAiIHBvaW50cz0iMjA0LjQ5NjIsLTE4LjU1MzcgMjE0LjY2ODksLTE1LjU5MyAyMDQuODcwMiwtMTEuNTYzNyAyMDQuNDk2MiwtMTguNTUzNyIvPgo8L2c+CjwhLS0gdHJlYXRtZW50JiM0NTsmZ3Q7c3VjY2VzcyAtLT4KPGcgaWQ9ImVkZ2UyIiBjbGFzcz0iZWRnZSI+Cjx0aXRsZT50cmVhdG1lbnQmIzQ1OyZndDtzdWNjZXNzPC90aXRsZT4KPHBhdGggZmlsbD0ibm9uZSIgc3Ryb2tlPSIjMDAwMDAwIiBkPSJNMTc0LjIxNjUsLTMzLjE0OUMxODQuNzczMywtMzEuMDc4MSAxOTYuMjI4LC0yOC44MzA5IDIwNy4wMDI2LC0yNi43MTczIi8+Cjxwb2x5Z29uIGZpbGw9IiMwMDAwMDAiIHN0cm9rZT0iIzAwMDAwMCIgcG9pbnRzPSIyMDcuOTMzNywtMzAuMTAxNCAyMTcuMDcyOSwtMjQuNzQxNyAyMDYuNTg2MSwtMjMuMjMyMyAyMDcuOTMzNywtMzAuMTAxNCIvPgo8L2c+CjwvZz4KPC9zdmc+Cg==\">"
      ]
     },
     "execution_count": 12,
     "metadata": {},
     "output_type": "execute_result"
    }
   ],
   "source": [
    "(define charig1986\n",
    "  (model\n",
    "    {:size []\n",
    "     :treatment [:size]\n",
    "     :success [:treatment :size]}))"
   ]
  },
  {
   "cell_type": "code",
   "execution_count": 13,
   "metadata": {},
   "outputs": [
    {
     "data": {
      "text/latex": [
       "$$\\left[ \\sum_{\\text{size}} \\left[ \\sum_{\\text{success}, \\text{treatment}} P(\\text{size}, \\text{success}, \\text{treatment}) \\right] \\frac{P(\\text{size}, \\text{success}, \\text{treatment})}{\\left[ \\sum_{\\text{success}} P(\\text{size}, \\text{success}, \\text{treatment}) \\right]} \\right] \\\\ \\text{where: } \\text{treatment}=\\text{\"surgery\"}; \\text{success}=\\text{\"yes\"}$$"
      ]
     },
     "execution_count": 13,
     "metadata": {},
     "output_type": "execute_result"
    }
   ],
   "source": [
    "(define f\n",
    "  (identify\n",
    "    charig1986\n",
    "    (q {:success \"yes\"} :do {:treatment \"surgery\"})))"
   ]
  },
  {
   "cell_type": "code",
   "execution_count": 14,
   "metadata": {},
   "outputs": [
    {
     "data": {
      "text/plain": [
       "0.8325462173856037"
      ]
     },
     "execution_count": 14,
     "metadata": {},
     "output_type": "execute_result"
    }
   ],
   "source": [
    "(estimate kidney-distribution f)"
   ]
  },
  {
   "cell_type": "code",
   "execution_count": 15,
   "metadata": {},
   "outputs": [
    {
     "data": {
      "text/latex": [
       "$$\\left[ \\sum_{\\text{size}} \\left[ \\sum_{\\text{success}, \\text{treatment}} P(\\text{size}, \\text{success}, \\text{treatment}) \\right] \\frac{P(\\text{size}, \\text{success}, \\text{treatment})}{\\left[ \\sum_{\\text{success}} P(\\text{size}, \\text{success}, \\text{treatment}) \\right]} \\right] \\\\ \\text{where: } \\text{treatment}=\\text{\"surgery\"}$$"
      ]
     },
     "execution_count": 15,
     "metadata": {},
     "output_type": "execute_result"
    }
   ],
   "source": [
    "(define g\n",
    "  (identify\n",
    "    charig1986\n",
    "    (q [:success] :do {:treatment \"surgery\"})))"
   ]
  },
  {
   "cell_type": "code",
   "execution_count": 16,
   "metadata": {},
   "outputs": [
    {
     "data": {
      "text/plain": [
       "0.16745378261439622"
      ]
     },
     "execution_count": 16,
     "metadata": {},
     "output_type": "execute_result"
    }
   ],
   "source": [
    "(measure\n",
    "  (estimate kidney-distribution g)\n",
    "  {:success \"no\"})"
   ]
  },
  {
   "cell_type": "code",
   "execution_count": 17,
   "metadata": {},
   "outputs": [
    {
     "data": {
      "image/png": "[encoded data removed]"
     },
     "execution_count": 17,
     "metadata": {},
     "output_type": "execute_result"
    }
   ],
   "source": [
    "(plot-univariate (estimate kidney-distribution g))"
   ]
  },
  {
   "cell_type": "code",
   "execution_count": 18,
   "metadata": {},
   "outputs": [
    {
     "data": {
      "text/plain": [
       "#whittemore.core.Categorical{:pmf {{:success \"yes\"} 0.8325462173856037, {:success \"no\"} 0.16745378261439622}}"
      ]
     },
     "execution_count": 18,
     "metadata": {},
     "output_type": "execute_result"
    }
   ],
   "source": [
    "(infer\n",
    "  charig1986\n",
    "  kidney-distribution\n",
    "  (q [:success] :do {:treatment \"surgery\"}))"
   ]
  },
  {
   "cell_type": "code",
   "execution_count": null,
   "metadata": {},
   "outputs": [],
   "source": []
  }
 ],
 "metadata": {
  "kernelspec": {
   "display_name": "Lein-Clojure",
   "language": "clojure",
   "name": "lein-clojure"
  },
  "language_info": {
   "file_extension": ".clj",
   "mimetype": "text/x-clojure",
   "name": "clojure",
   "version": "1.8.0"
  }
 },
 "nbformat": 4,
 "nbformat_minor": 2
}
