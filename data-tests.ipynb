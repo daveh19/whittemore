{
 "cells": [
  {
   "cell_type": "code",
   "execution_count": 33,
   "metadata": {},
   "outputs": [],
   "source": [
    "(require '[acausal.core :as a :refer [defmodel q p]]\n",
    "         '[clojure.repl :refer [doc]]\n",
    "         :reload-all)"
   ]
  },
  {
   "cell_type": "code",
   "execution_count": 18,
   "metadata": {
    "scrolled": false
   },
   "outputs": [
    {
     "data": {
      "text/plain": [
       "#'user/kidney-data"
      ]
     },
     "execution_count": 18,
     "metadata": {},
     "output_type": "execute_result"
    }
   ],
   "source": [
    "(def kidney-data (a/read-csv \"kidney.csv\"))"
   ]
  },
  {
   "cell_type": "code",
   "execution_count": 23,
   "metadata": {},
   "outputs": [
    {
     "data": {
      "text/plain": [
       "\n",
       "|      :treatment | :size | :success |\n",
       "|-----------------+-------+----------|\n",
       "|         surgery | large |       no |\n",
       "|         surgery | large |       no |\n",
       "|         surgery | small |      yes |\n",
       "|         surgery | large |      yes |\n",
       "|         surgery | large |       no |\n",
       "|         surgery | large |       no |\n",
       "|         surgery | large |      yes |\n",
       "| nephrolithotomy | small |       no |\n",
       "|         surgery | large |      yes |\n",
       "| nephrolithotomy | small |      yes |\n",
       "|         surgery | large |      yes |\n",
       "| nephrolithotomy | small |      yes |\n",
       "| nephrolithotomy | small |      yes |\n",
       "| nephrolithotomy | small |      yes |\n",
       "| nephrolithotomy | small |      yes |\n"
      ]
     },
     "execution_count": 23,
     "metadata": {},
     "output_type": "execute_result"
    }
   ],
   "source": [
    "(a/tail kidney-data :n 15)"
   ]
  },
  {
   "cell_type": "code",
   "execution_count": 36,
   "metadata": {},
   "outputs": [
    {
     "data": {
      "text/plain": [
       "192/263"
      ]
     },
     "execution_count": 36,
     "metadata": {},
     "output_type": "execute_result"
    }
   ],
   "source": [
    "(a/estimate-categorical-query\n",
    "    (a/categorical kidney-data)\n",
    "    (q [:success] :given [:treatment :size])\n",
    "    {:success \"yes\", :treatment \"surgery\" :size \"large\"})\n",
    "    "
   ]
  },
  {
   "cell_type": "code",
   "execution_count": 28,
   "metadata": {
    "scrolled": true
   },
   "outputs": [
    {
     "name": "stdout",
     "output_type": "stream",
     "text": [
      "-------------------------\n",
      "clojure.pprint/print-table\n",
      "([ks rows] [rows])\n",
      "  Prints a collection of maps in a textual table. Prints table headings\n",
      "   ks, and then a line of output for each row, corresponding to the keys\n",
      "   in ks. If ks are not specified, use the keys of the first item in rows.\n"
     ]
    }
   ],
   "source": [
    "(doc pp/print-table)"
   ]
  },
  {
   "cell_type": "markdown",
   "metadata": {},
   "source": [
    "**Note** incanter.core redefines the print-method for core.matrix datasets\n",
    "\n",
    "core.matrix.datasets/row-maps returns a lazy seq over the rows, as maps"
   ]
  },
  {
   "cell_type": "code",
   "execution_count": 19,
   "metadata": {},
   "outputs": [],
   "source": [
    "(require '[incanter.core :as i]\n",
    "         '[incanter.datasets :refer [get-dataset]])"
   ]
  },
  {
   "cell_type": "code",
   "execution_count": 21,
   "metadata": {},
   "outputs": [
    {
     "data": {
      "text/plain": [
       "\n",
       "| :Sepal.Length | :Sepal.Width | :Petal.Length | :Petal.Width |   :Species |\n",
       "|---------------+--------------+---------------+--------------+------------|\n",
       "|           5.1 |          3.5 |           1.4 |          0.2 |     setosa |\n",
       "|           4.9 |          3.0 |           1.4 |          0.2 |     setosa |\n",
       "|           4.7 |          3.2 |           1.3 |          0.2 |     setosa |\n",
       "|           4.6 |          3.1 |           1.5 |          0.2 |     setosa |\n",
       "|           5.0 |          3.6 |           1.4 |          0.2 |     setosa |\n",
       "|           5.4 |          3.9 |           1.7 |          0.4 |     setosa |\n",
       "|           4.6 |          3.4 |           1.4 |          0.3 |     setosa |\n",
       "|           5.0 |          3.4 |           1.5 |          0.2 |     setosa |\n",
       "|           4.4 |          2.9 |           1.4 |          0.2 |     setosa |\n",
       "|           4.9 |          3.1 |           1.5 |          0.1 |     setosa |\n",
       "|           5.4 |          3.7 |           1.5 |          0.2 |     setosa |\n",
       "|           4.8 |          3.4 |           1.6 |          0.2 |     setosa |\n",
       "|           4.8 |          3.0 |           1.4 |          0.1 |     setosa |\n",
       "|           4.3 |          3.0 |           1.1 |          0.1 |     setosa |\n",
       "|           5.8 |          4.0 |           1.2 |          0.2 |     setosa |\n",
       "|           5.7 |          4.4 |           1.5 |          0.4 |     setosa |\n",
       "|           5.4 |          3.9 |           1.3 |          0.4 |     setosa |\n",
       "|           5.1 |          3.5 |           1.4 |          0.3 |     setosa |\n",
       "|           5.7 |          3.8 |           1.7 |          0.3 |     setosa |\n",
       "|           5.1 |          3.8 |           1.5 |          0.3 |     setosa |\n",
       "|           5.4 |          3.4 |           1.7 |          0.2 |     setosa |\n",
       "|           5.1 |          3.7 |           1.5 |          0.4 |     setosa |\n",
       "|           4.6 |          3.6 |           1.0 |          0.2 |     setosa |\n",
       "|           5.1 |          3.3 |           1.7 |          0.5 |     setosa |\n",
       "|           4.8 |          3.4 |           1.9 |          0.2 |     setosa |\n",
       "|           5.0 |          3.0 |           1.6 |          0.2 |     setosa |\n",
       "|           5.0 |          3.4 |           1.6 |          0.4 |     setosa |\n",
       "|           5.2 |          3.5 |           1.5 |          0.2 |     setosa |\n",
       "|           5.2 |          3.4 |           1.4 |          0.2 |     setosa |\n",
       "|           4.7 |          3.2 |           1.6 |          0.2 |     setosa |\n",
       "|           4.8 |          3.1 |           1.6 |          0.2 |     setosa |\n",
       "|           5.4 |          3.4 |           1.5 |          0.4 |     setosa |\n",
       "|           5.2 |          4.1 |           1.5 |          0.1 |     setosa |\n",
       "|           5.5 |          4.2 |           1.4 |          0.2 |     setosa |\n",
       "|           4.9 |          3.1 |           1.5 |          0.2 |     setosa |\n",
       "|           5.0 |          3.2 |           1.2 |          0.2 |     setosa |\n",
       "|           5.5 |          3.5 |           1.3 |          0.2 |     setosa |\n",
       "|           4.9 |          3.6 |           1.4 |          0.1 |     setosa |\n",
       "|           4.4 |          3.0 |           1.3 |          0.2 |     setosa |\n",
       "|           5.1 |          3.4 |           1.5 |          0.2 |     setosa |\n",
       "|           5.0 |          3.5 |           1.3 |          0.3 |     setosa |\n",
       "|           4.5 |          2.3 |           1.3 |          0.3 |     setosa |\n",
       "|           4.4 |          3.2 |           1.3 |          0.2 |     setosa |\n",
       "|           5.0 |          3.5 |           1.6 |          0.6 |     setosa |\n",
       "|           5.1 |          3.8 |           1.9 |          0.4 |     setosa |\n",
       "|           4.8 |          3.0 |           1.4 |          0.3 |     setosa |\n",
       "|           5.1 |          3.8 |           1.6 |          0.2 |     setosa |\n",
       "|           4.6 |          3.2 |           1.4 |          0.2 |     setosa |\n",
       "|           5.3 |          3.7 |           1.5 |          0.2 |     setosa |\n",
       "|           5.0 |          3.3 |           1.4 |          0.2 |     setosa |\n",
       "|           7.0 |          3.2 |           4.7 |          1.4 | versicolor |\n",
       "|           6.4 |          3.2 |           4.5 |          1.5 | versicolor |\n",
       "|           6.9 |          3.1 |           4.9 |          1.5 | versicolor |\n",
       "|           5.5 |          2.3 |           4.0 |          1.3 | versicolor |\n",
       "|           6.5 |          2.8 |           4.6 |          1.5 | versicolor |\n",
       "|           5.7 |          2.8 |           4.5 |          1.3 | versicolor |\n",
       "|           6.3 |          3.3 |           4.7 |          1.6 | versicolor |\n",
       "|           4.9 |          2.4 |           3.3 |          1.0 | versicolor |\n",
       "|           6.6 |          2.9 |           4.6 |          1.3 | versicolor |\n",
       "|           5.2 |          2.7 |           3.9 |          1.4 | versicolor |\n",
       "|           5.0 |          2.0 |           3.5 |          1.0 | versicolor |\n",
       "|           5.9 |          3.0 |           4.2 |          1.5 | versicolor |\n",
       "|           6.0 |          2.2 |           4.0 |          1.0 | versicolor |\n",
       "|           6.1 |          2.9 |           4.7 |          1.4 | versicolor |\n",
       "|           5.6 |          2.9 |           3.6 |          1.3 | versicolor |\n",
       "|           6.7 |          3.1 |           4.4 |          1.4 | versicolor |\n",
       "|           5.6 |          3.0 |           4.5 |          1.5 | versicolor |\n",
       "|           5.8 |          2.7 |           4.1 |          1.0 | versicolor |\n",
       "|           6.2 |          2.2 |           4.5 |          1.5 | versicolor |\n",
       "|           5.6 |          2.5 |           3.9 |          1.1 | versicolor |\n",
       "|           5.9 |          3.2 |           4.8 |          1.8 | versicolor |\n",
       "|           6.1 |          2.8 |           4.0 |          1.3 | versicolor |\n",
       "|           6.3 |          2.5 |           4.9 |          1.5 | versicolor |\n",
       "|           6.1 |          2.8 |           4.7 |          1.2 | versicolor |\n",
       "|           6.4 |          2.9 |           4.3 |          1.3 | versicolor |\n",
       "|           6.6 |          3.0 |           4.4 |          1.4 | versicolor |\n",
       "|           6.8 |          2.8 |           4.8 |          1.4 | versicolor |\n",
       "|           6.7 |          3.0 |           5.0 |          1.7 | versicolor |\n",
       "|           6.0 |          2.9 |           4.5 |          1.5 | versicolor |\n",
       "|           5.7 |          2.6 |           3.5 |          1.0 | versicolor |\n",
       "|           5.5 |          2.4 |           3.8 |          1.1 | versicolor |\n",
       "|           5.5 |          2.4 |           3.7 |          1.0 | versicolor |\n",
       "|           5.8 |          2.7 |           3.9 |          1.2 | versicolor |\n",
       "|           6.0 |          2.7 |           5.1 |          1.6 | versicolor |\n",
       "|           5.4 |          3.0 |           4.5 |          1.5 | versicolor |\n",
       "|           6.0 |          3.4 |           4.5 |          1.6 | versicolor |\n",
       "|           6.7 |          3.1 |           4.7 |          1.5 | versicolor |\n",
       "|           6.3 |          2.3 |           4.4 |          1.3 | versicolor |\n",
       "|           5.6 |          3.0 |           4.1 |          1.3 | versicolor |\n",
       "|           5.5 |          2.5 |           4.0 |          1.3 | versicolor |\n",
       "|           5.5 |          2.6 |           4.4 |          1.2 | versicolor |\n",
       "|           6.1 |          3.0 |           4.6 |          1.4 | versicolor |\n",
       "|           5.8 |          2.6 |           4.0 |          1.2 | versicolor |\n",
       "|           5.0 |          2.3 |           3.3 |          1.0 | versicolor |\n",
       "|           5.6 |          2.7 |           4.2 |          1.3 | versicolor |\n",
       "|           5.7 |          3.0 |           4.2 |          1.2 | versicolor |\n",
       "|           5.7 |          2.9 |           4.2 |          1.3 | versicolor |\n",
       "|           6.2 |          2.9 |           4.3 |          1.3 | versicolor |\n",
       "|           5.1 |          2.5 |           3.0 |          1.1 | versicolor |\n",
       "|           5.7 |          2.8 |           4.1 |          1.3 | versicolor |\n",
       "|           6.3 |          3.3 |           6.0 |          2.5 |  virginica |\n",
       "|           5.8 |          2.7 |           5.1 |          1.9 |  virginica |\n",
       "|           7.1 |          3.0 |           5.9 |          2.1 |  virginica |\n",
       "|           6.3 |          2.9 |           5.6 |          1.8 |  virginica |\n",
       "|           6.5 |          3.0 |           5.8 |          2.2 |  virginica |\n",
       "|           7.6 |          3.0 |           6.6 |          2.1 |  virginica |\n",
       "|           4.9 |          2.5 |           4.5 |          1.7 |  virginica |\n",
       "|           7.3 |          2.9 |           6.3 |          1.8 |  virginica |\n",
       "|           6.7 |          2.5 |           5.8 |          1.8 |  virginica |\n",
       "|           7.2 |          3.6 |           6.1 |          2.5 |  virginica |\n",
       "|           6.5 |          3.2 |           5.1 |          2.0 |  virginica |\n",
       "|           6.4 |          2.7 |           5.3 |          1.9 |  virginica |\n",
       "|           6.8 |          3.0 |           5.5 |          2.1 |  virginica |\n",
       "|           5.7 |          2.5 |           5.0 |          2.0 |  virginica |\n",
       "|           5.8 |          2.8 |           5.1 |          2.4 |  virginica |\n",
       "|           6.4 |          3.2 |           5.3 |          2.3 |  virginica |\n",
       "|           6.5 |          3.0 |           5.5 |          1.8 |  virginica |\n",
       "|           7.7 |          3.8 |           6.7 |          2.2 |  virginica |\n",
       "|           7.7 |          2.6 |           6.9 |          2.3 |  virginica |\n",
       "|           6.0 |          2.2 |           5.0 |          1.5 |  virginica |\n",
       "|           6.9 |          3.2 |           5.7 |          2.3 |  virginica |\n",
       "|           5.6 |          2.8 |           4.9 |          2.0 |  virginica |\n",
       "|           7.7 |          2.8 |           6.7 |          2.0 |  virginica |\n",
       "|           6.3 |          2.7 |           4.9 |          1.8 |  virginica |\n",
       "|           6.7 |          3.3 |           5.7 |          2.1 |  virginica |\n",
       "|           7.2 |          3.2 |           6.0 |          1.8 |  virginica |\n",
       "|           6.2 |          2.8 |           4.8 |          1.8 |  virginica |\n",
       "|           6.1 |          3.0 |           4.9 |          1.8 |  virginica |\n",
       "|           6.4 |          2.8 |           5.6 |          2.1 |  virginica |\n",
       "|           7.2 |          3.0 |           5.8 |          1.6 |  virginica |\n",
       "|           7.4 |          2.8 |           6.1 |          1.9 |  virginica |\n",
       "|           7.9 |          3.8 |           6.4 |          2.0 |  virginica |\n",
       "|           6.4 |          2.8 |           5.6 |          2.2 |  virginica |\n",
       "|           6.3 |          2.8 |           5.1 |          1.5 |  virginica |\n",
       "|           6.1 |          2.6 |           5.6 |          1.4 |  virginica |\n",
       "|           7.7 |          3.0 |           6.1 |          2.3 |  virginica |\n",
       "|           6.3 |          3.4 |           5.6 |          2.4 |  virginica |\n",
       "|           6.4 |          3.1 |           5.5 |          1.8 |  virginica |\n",
       "|           6.0 |          3.0 |           4.8 |          1.8 |  virginica |\n",
       "|           6.9 |          3.1 |           5.4 |          2.1 |  virginica |\n",
       "|           6.7 |          3.1 |           5.6 |          2.4 |  virginica |\n",
       "|           6.9 |          3.1 |           5.1 |          2.3 |  virginica |\n",
       "|           5.8 |          2.7 |           5.1 |          1.9 |  virginica |\n",
       "|           6.8 |          3.2 |           5.9 |          2.3 |  virginica |\n",
       "|           6.7 |          3.3 |           5.7 |          2.5 |  virginica |\n",
       "|           6.7 |          3.0 |           5.2 |          2.3 |  virginica |\n",
       "|           6.3 |          2.5 |           5.0 |          1.9 |  virginica |\n",
       "|           6.5 |          3.0 |           5.2 |          2.0 |  virginica |\n",
       "|           6.2 |          3.4 |           5.4 |          2.3 |  virginica |\n",
       "|           5.9 |          3.0 |           5.1 |          1.8 |  virginica |\n"
      ]
     },
     "execution_count": 21,
     "metadata": {},
     "output_type": "execute_result"
    }
   ],
   "source": [
    "(get-dataset :iris)"
   ]
  },
  {
   "cell_type": "code",
   "execution_count": null,
   "metadata": {},
   "outputs": [],
   "source": []
  }
 ],
 "metadata": {
  "kernelspec": {
   "display_name": "Lein-Clojure",
   "language": "clojure",
   "name": "lein-clojure"
  },
  "language_info": {
   "file_extension": ".clj",
   "mimetype": "text/x-clojure",
   "name": "clojure",
   "version": "1.8.0"
  }
 },
 "nbformat": 4,
 "nbformat_minor": 2
}
