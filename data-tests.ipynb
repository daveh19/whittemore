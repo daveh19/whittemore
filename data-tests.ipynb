{
 "cells": [
  {
   "cell_type": "code",
   "execution_count": 20,
   "metadata": {},
   "outputs": [],
   "source": [
    "(require '[acausal.core :as a :refer [defmodel q p]]\n",
    "         '[clojure.repl :refer [doc]]\n",
    "         :reload-all)"
   ]
  },
  {
   "cell_type": "code",
   "execution_count": 21,
   "metadata": {
    "scrolled": false
   },
   "outputs": [
    {
     "data": {
      "text/plain": [
       "#'user/kidney-data"
      ]
     },
     "execution_count": 21,
     "metadata": {},
     "output_type": "execute_result"
    }
   ],
   "source": [
    "(def kidney-data\n",
    "    (a/read-csv \"kidney.csv\"))"
   ]
  },
  {
   "cell_type": "code",
   "execution_count": 22,
   "metadata": {},
   "outputs": [
    {
     "data": {
      "text/plain": [
       "\n",
       "|      :treatment | :size | :success |\n",
       "|-----------------+-------+----------|\n",
       "|         surgery | large |       no |\n",
       "|         surgery | large |      yes |\n",
       "| nephrolithotomy | small |       no |\n",
       "|         surgery | large |      yes |\n",
       "| nephrolithotomy | small |      yes |\n",
       "|         surgery | large |      yes |\n",
       "| nephrolithotomy | small |      yes |\n",
       "| nephrolithotomy | small |      yes |\n",
       "| nephrolithotomy | small |      yes |\n",
       "| nephrolithotomy | small |      yes |\n"
      ]
     },
     "execution_count": 22,
     "metadata": {},
     "output_type": "execute_result"
    }
   ],
   "source": [
    "(a/tail kidney-data)"
   ]
  },
  {
   "cell_type": "code",
   "execution_count": 24,
   "metadata": {},
   "outputs": [
    {
     "data": {
      "text/plain": [
       "#'user/kidney-distribution"
      ]
     },
     "execution_count": 24,
     "metadata": {},
     "output_type": "execute_result"
    }
   ],
   "source": [
    "(def kidney-distribution\n",
    "    (a/categorical\n",
    "        kidney-data\n",
    "        :support {:treatment [\"surgery\" \"nephrolithotomy\"]\n",
    "                  :size [\"large\" \"small\"]\n",
    "                  :success [\"yes\" \"no\"]}))"
   ]
  },
  {
   "cell_type": "code",
   "execution_count": 35,
   "metadata": {
    "scrolled": true
   },
   "outputs": [
    {
     "data": {
      "text/plain": [
       "0.9310345"
      ]
     },
     "execution_count": 35,
     "metadata": {},
     "output_type": "execute_result"
    }
   ],
   "source": [
    "(float\n",
    "    (a/estimate-categorical-query\n",
    "        kidney-distribution\n",
    "        (q [:success] :given [:treatment :size])\n",
    "        {:success \"yes\", :treatment \"surgery\" :size \"small\"}))"
   ]
  },
  {
   "cell_type": "code",
   "execution_count": null,
   "metadata": {},
   "outputs": [],
   "source": []
  },
  {
   "cell_type": "code",
   "execution_count": 6,
   "metadata": {},
   "outputs": [],
   "source": [
    "(require '[incanter.core :as i]\n",
    "         '[incanter.datasets :refer [get-dataset]]\n",
    "         '[clojure.core.matrix.dataset :as md])"
   ]
  },
  {
   "cell_type": "code",
   "execution_count": 9,
   "metadata": {},
   "outputs": [
    {
     "data": {
      "text/plain": [
       "#'user/iris"
      ]
     },
     "execution_count": 9,
     "metadata": {},
     "output_type": "execute_result"
    }
   ],
   "source": [
    "(def iris (get-dataset :iris))"
   ]
  },
  {
   "cell_type": "code",
   "execution_count": 13,
   "metadata": {},
   "outputs": [
    {
     "data": {
      "text/plain": [
       "java.lang.Double"
      ]
     },
     "execution_count": 13,
     "metadata": {},
     "output_type": "execute_result"
    }
   ],
   "source": [
    "(type (:Sepal.Length (first (md/row-maps iris))))"
   ]
  },
  {
   "cell_type": "code",
   "execution_count": null,
   "metadata": {},
   "outputs": [],
   "source": []
  }
 ],
 "metadata": {
  "kernelspec": {
   "display_name": "Lein-Clojure",
   "language": "clojure",
   "name": "lein-clojure"
  },
  "language_info": {
   "file_extension": ".clj",
   "mimetype": "text/x-clojure",
   "name": "clojure",
   "version": "1.8.0"
  }
 },
 "nbformat": 4,
 "nbformat_minor": 2
}
