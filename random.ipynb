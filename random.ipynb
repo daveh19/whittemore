{
 "cells": [
  {
   "cell_type": "code",
   "execution_count": 1,
   "metadata": {},
   "outputs": [],
   "source": [
    "(require '[acausal.core :as a\n",
    "           :refer [defmodel model identify identifiable? q latent-projection]]\n",
    "         '[acausal.random :as ar]\n",
    "         '[clojure.repl :refer [doc]]\n",
    "         '[incanter.charts]\n",
    "         :reload-all)"
   ]
  },
  {
   "cell_type": "code",
   "execution_count": 3,
   "metadata": {},
   "outputs": [
    {
     "data": {
      "text/plain": [
       "[:n_1 :n_2 :n_3 :n_4 :n_5 :n_6 :n_7 :n_8 :n_9 :n_10 :n_11 :n_12 :n_13 :n_14 :n_15]"
      ]
     },
     "execution_count": 3,
     "metadata": {},
     "output_type": "execute_result"
    }
   ],
   "source": [
    "(def N 1000)\n",
    "\n",
    "(def num-vars\n",
    "    \"Number of variables per model.\"\n",
    "    15)\n",
    "\n",
    "(def num-latent\n",
    "    \"Number of non-observable variables per model.\"\n",
    "    10)\n",
    "\n",
    "(def v\n",
    "    \"Variables of the models\"\n",
    "    (ar/gen-nodes num-vars))\n",
    "\n",
    "v"
   ]
  },
  {
   "cell_type": "code",
   "execution_count": 5,
   "metadata": {},
   "outputs": [
    {
     "data": {
      "text/plain": [
       "#'user/gen-markovian"
      ]
     },
     "execution_count": 5,
     "metadata": {},
     "output_type": "execute_result"
    }
   ],
   "source": [
    "(defn gen-markovian\n",
    "    [num-models num-vars p-edge]\n",
    "    (take num-models\n",
    "          (repeatedly #(ar/erdos-renyi-model num-vars p-edge))))"
   ]
  },
  {
   "cell_type": "code",
   "execution_count": 8,
   "metadata": {},
   "outputs": [
    {
     "data": {
      "text/plain": [
       "#'user/gen-models"
      ]
     },
     "execution_count": 8,
     "metadata": {},
     "output_type": "execute_result"
    }
   ],
   "source": [
    "(defn gen-models\n",
    "    [num-models num-vars num-latent p-edge]\n",
    "    (let [models (gen-markovian num-models num-vars p-edge)]\n",
    "        (for [m models]\n",
    "            (a/latent-projection m (take num-latent (shuffle (a/vertices m)))))))"
   ]
  },
  {
   "cell_type": "code",
   "execution_count": 9,
   "metadata": {
    "scrolled": true
   },
   "outputs": [
    {
     "data": {
      "text/plain": [
       "#'user/erdos-reyni-number"
      ]
     },
     "execution_count": 9,
     "metadata": {},
     "output_type": "execute_result"
    }
   ],
   "source": [
    "(defn erdos-reyni-number [num-vars]\n",
    "    (/ (java.lang.Math/log num-vars) num-vars))"
   ]
  },
  {
   "cell_type": "code",
   "execution_count": 10,
   "metadata": {},
   "outputs": [
    {
     "data": {
      "text/plain": [
       "#'user/average"
      ]
     },
     "execution_count": 10,
     "metadata": {},
     "output_type": "execute_result"
    }
   ],
   "source": [
    "(defn average [coll]\n",
    "    (/ (reduce + coll) (count coll)))"
   ]
  },
  {
   "cell_type": "code",
   "execution_count": 11,
   "metadata": {
    "scrolled": false
   },
   "outputs": [
    {
     "data": {
      "text/plain": [
       "0.23025850929940458"
      ]
     },
     "execution_count": 11,
     "metadata": {},
     "output_type": "execute_result"
    }
   ],
   "source": [
    "(erdos-reyni-number 10)"
   ]
  },
  {
   "cell_type": "markdown",
   "metadata": {},
   "source": [
    "Below is too inefficient"
   ]
  },
  {
   "cell_type": "code",
   "execution_count": 15,
   "metadata": {
    "scrolled": true
   },
   "outputs": [
    {
     "data": {
      "image/png": "[encoded data removed]"
     },
     "execution_count": 15,
     "metadata": {},
     "output_type": "execute_result"
    }
   ],
   "source": [
    "(let [n 20]\n",
    "  (->\n",
    "    (incanter.charts/scatter-plot\n",
    "        (range (dec n))\n",
    "        (map #(average (map ar/percent-nontrivial-id\n",
    "                            (gen-models 100 n % 0.5)))\n",
    "             (range (dec n))))\n",
    "    \n",
    "    (.createBufferedImage 600 400)))"
   ]
  },
  {
   "cell_type": "code",
   "execution_count": 63,
   "metadata": {
    "scrolled": true
   },
   "outputs": [
    {
     "data": {
      "text/plain": [
       "327/500"
      ]
     },
     "execution_count": 63,
     "metadata": {},
     "output_type": "execute_result"
    }
   ],
   "source": [
    "(average (map percent-id-nontrivial (gen-models 1000 15 13 0.5)))"
   ]
  },
  {
   "cell_type": "code",
   "execution_count": 102,
   "metadata": {
    "scrolled": false
   },
   "outputs": [
    {
     "data": {
      "text/plain": [
       "true"
      ]
     },
     "execution_count": 102,
     "metadata": {},
     "output_type": "execute_result"
    }
   ],
   "source": [
    "(identifiable?\n",
    "    (nth random-semimarkovian-models 3)\n",
    "    (q [:n_11] :do [:n_15]))"
   ]
  },
  {
   "cell_type": "code",
   "execution_count": 10,
   "metadata": {},
   "outputs": [
    {
     "data": {
      "text/plain": [
       "#'user/all-singleton-queries"
      ]
     },
     "execution_count": 10,
     "metadata": {},
     "output_type": "execute_result"
    }
   ],
   "source": [
    "(defn all-singleton-queries\n",
    "    \"All queries of the form (q i :do j) for i not= j\"\n",
    "    [nodes]\n",
    "    (for [i nodes\n",
    "          j nodes\n",
    "          :when (not= i j)]\n",
    "          (q [i] :do [j])))"
   ]
  },
  {
   "cell_type": "code",
   "execution_count": 8,
   "metadata": {
    "scrolled": true
   },
   "outputs": [
    {
     "data": {
      "text/plain": [
       "#'user/nontrivial-singleton-queries"
      ]
     },
     "execution_count": 8,
     "metadata": {},
     "output_type": "execute_result"
    }
   ],
   "source": [
    "(defn nontrivial-singleton-queries\n",
    "    [nodes]\n",
    "    (for [i nodes\n",
    "          j nodes\n",
    "          :when (< (compare i j) 0)]\n",
    "          (q [i] :do [j])))"
   ]
  },
  {
   "cell_type": "code",
   "execution_count": 17,
   "metadata": {
    "scrolled": true
   },
   "outputs": [
    {
     "name": "stdout",
     "output_type": "stream",
     "text": [
      "CompilerException java.lang.RuntimeException: Unable to resolve symbol: all-singleton-queries in this context, compiling:(/tmp/form-init2786637632494356736.clj:3:19) \n"
     ]
    },
    {
     "ename": "class clojure.lang.Compiler$CompilerException",
     "evalue": "",
     "output_type": "error",
     "traceback": [
      "              Util.java:   221 clojure.lang.Util/runtimeException                     ",
      "               core.clj:  3105 clojure.core$eval/invokeStatic                         ",
      "               core.clj:  3101 clojure.core$eval/invoke                               ",
      "               main.clj:   240 clojure.main$repl$read_eval_print__7408$fn__7411/invoke",
      "               main.clj:   258 clojure.main$repl$fn__7417/invoke                      ",
      "               main.clj:   174 clojure.main$repl/doInvoke                             ",
      "            RestFn.java:  1523 clojure.lang.RestFn/invoke                             ",
      "               AFn.java:   152 clojure.lang.AFn/applyToHelper                         ",
      "               AFn.java:   144 clojure.lang.AFn/applyTo                               ",
      "               core.clj:   646 clojure.core$apply/invokeStatic                        ",
      "               core.clj:  1881 clojure.core$with_bindings_STAR_/invokeStatic          ",
      "            RestFn.java:   425 clojure.lang.RestFn/invoke                             ",
      "               AFn.java:    22 clojure.lang.AFn/run                                   ",
      "ThreadPoolExecutor.java:  1149 java.util.concurrent.ThreadPoolExecutor/runWorker      ",
      "ThreadPoolExecutor.java:   624 java.util.concurrent.ThreadPoolExecutor$Worker/run     ",
      "            Thread.java:   748 java.lang.Thread/run                                   "
     ]
    }
   ],
   "source": [
    "(defn percent-identifiable\n",
    "    [m]\n",
    "    (let [queries (all-singleton-queries (a/verticies m))]\n",
    "        (/\n",
    "            (->>\n",
    "                queries\n",
    "                (map #(identifiable? m %))\n",
    "                (filter identity)\n",
    "                count)\n",
    "            (count queries))))"
   ]
  },
  {
   "cell_type": "code",
   "execution_count": 11,
   "metadata": {},
   "outputs": [
    {
     "data": {
      "text/plain": [
       "#'user/percent-id-nontrivial"
      ]
     },
     "execution_count": 11,
     "metadata": {},
     "output_type": "execute_result"
    }
   ],
   "source": [
    "(defn percent-id-nontrivial\n",
    "    [m]\n",
    "    (let [queries (nontrivial-singleton-queries (a/verticies m))]\n",
    "        (/\n",
    "            (->>\n",
    "                queries\n",
    "                (map #(identifiable? m %))\n",
    "                (filter identity)\n",
    "                count)\n",
    "            (count queries))))"
   ]
  },
  {
   "cell_type": "code",
   "execution_count": null,
   "metadata": {},
   "outputs": [],
   "source": [
    "(defn multi-query\n",
    "    [nodes]\n",
    "    (for [i nodes]))"
   ]
  },
  {
   "cell_type": "code",
   "execution_count": null,
   "metadata": {},
   "outputs": [],
   "source": []
  },
  {
   "cell_type": "code",
   "execution_count": 28,
   "metadata": {
    "scrolled": true
   },
   "outputs": [
    {
     "data": {
      "text/plain": [
       "false"
      ]
     },
     "execution_count": 28,
     "metadata": {},
     "output_type": "execute_result"
    }
   ],
   "source": [
    "(a/identifiable? (first random-semimarkovian-models) (a/q [:n_13] :do [:n_4]))"
   ]
  },
  {
   "cell_type": "code",
   "execution_count": 27,
   "metadata": {
    "scrolled": true
   },
   "outputs": [
    {
     "data": {
      "image/svg+xml": [
       "<?xml version=\"1.0\" encoding=\"UTF-8\" standalone=\"no\"?>\n",
       "<!DOCTYPE svg PUBLIC \"-//W3C//DTD SVG 1.1//EN\"\n",
       " \"http://www.w3.org/Graphics/SVG/1.1/DTD/svg11.dtd\">\n",
       "<!-- Generated by graphviz version 2.40.1 (20161225.0304)\n",
       " -->\n",
       "<!-- Title: %3 Pages: 1 -->\n",
       "<svg width=\"221pt\" height=\"116pt\"\n",
       " viewBox=\"0.00 0.00 221.50 116.00\" xmlns=\"http://www.w3.org/2000/svg\" xmlns:xlink=\"http://www.w3.org/1999/xlink\">\n",
       "<g id=\"graph0\" class=\"graph\" transform=\"scale(1 1) rotate(0) translate(4 112)\">\n",
       "<title>%3</title>\n",
       "<polygon fill=\"#ffffff\" stroke=\"transparent\" points=\"-4,4 -4,-112 217.4971,-112 217.4971,4 -4,4\"/>\n",
       "<!-- node8579 -->\n",
       "<g id=\"node1\" class=\"node\">\n",
       "<title>node8579</title>\n",
       "<ellipse fill=\"none\" stroke=\"#000000\" cx=\"27\" cy=\"-18\" rx=\"27\" ry=\"18\"/>\n",
       "<text text-anchor=\"middle\" x=\"27\" y=\"-14.3\" font-family=\"Monospace\" font-size=\"14.00\" fill=\"#000000\">n_9</text>\n",
       "</g>\n",
       "<!-- node8580 -->\n",
       "<g id=\"node2\" class=\"node\">\n",
       "<title>node8580</title>\n",
       "<ellipse fill=\"none\" stroke=\"#000000\" cx=\"104\" cy=\"-18\" rx=\"32.4942\" ry=\"18\"/>\n",
       "<text text-anchor=\"middle\" x=\"104\" y=\"-14.3\" font-family=\"Monospace\" font-size=\"14.00\" fill=\"#000000\">n_14</text>\n",
       "</g>\n",
       "<!-- node8581 -->\n",
       "<g id=\"node3\" class=\"node\">\n",
       "<title>node8581</title>\n",
       "<ellipse fill=\"none\" stroke=\"#000000\" cx=\"104\" cy=\"-90\" rx=\"27\" ry=\"18\"/>\n",
       "<text text-anchor=\"middle\" x=\"104\" y=\"-86.3\" font-family=\"Monospace\" font-size=\"14.00\" fill=\"#000000\">n_3</text>\n",
       "</g>\n",
       "<!-- node8581&#45;&gt;node8580 -->\n",
       "<g id=\"edge1\" class=\"edge\">\n",
       "<title>node8581&#45;&gt;node8580</title>\n",
       "<path fill=\"none\" stroke=\"#000000\" d=\"M104,-71.8314C104,-64.131 104,-54.9743 104,-46.4166\"/>\n",
       "<polygon fill=\"#000000\" stroke=\"#000000\" points=\"107.5001,-46.4132 104,-36.4133 100.5001,-46.4133 107.5001,-46.4132\"/>\n",
       "</g>\n",
       "<!-- node8582 -->\n",
       "<g id=\"node4\" class=\"node\">\n",
       "<title>node8582</title>\n",
       "<ellipse fill=\"none\" stroke=\"#000000\" cx=\"181\" cy=\"-90\" rx=\"32.4942\" ry=\"18\"/>\n",
       "<text text-anchor=\"middle\" x=\"181\" y=\"-86.3\" font-family=\"Monospace\" font-size=\"14.00\" fill=\"#000000\">n_12</text>\n",
       "</g>\n",
       "<!-- node8583 -->\n",
       "<g id=\"node5\" class=\"node\">\n",
       "<title>node8583</title>\n",
       "<ellipse fill=\"none\" stroke=\"#000000\" cx=\"29\" cy=\"-90\" rx=\"27\" ry=\"18\"/>\n",
       "<text text-anchor=\"middle\" x=\"29\" y=\"-86.3\" font-family=\"Monospace\" font-size=\"14.00\" fill=\"#000000\">n_8</text>\n",
       "</g>\n",
       "<!-- node8583&#45;&gt;node8579 -->\n",
       "<g id=\"edge2\" class=\"edge\">\n",
       "<title>node8583&#45;&gt;node8579</title>\n",
       "<path fill=\"none\" stroke=\"#000000\" d=\"M28.4953,-71.8314C28.2814,-64.131 28.0271,-54.9743 27.7894,-46.4166\"/>\n",
       "<polygon fill=\"#000000\" stroke=\"#000000\" points=\"31.2879,-46.3122 27.5115,-36.4133 24.2906,-46.5066 31.2879,-46.3122\"/>\n",
       "</g>\n",
       "<!-- node8583&#45;&gt;node8580 -->\n",
       "<g id=\"edge3\" class=\"edge\">\n",
       "<title>node8583&#45;&gt;node8580</title>\n",
       "<path fill=\"none\" stroke=\"#000000\" d=\"M44.54,-75.0816C54.8878,-65.1477 68.68,-51.9072 80.3758,-40.6793\"/>\n",
       "<polygon fill=\"#000000\" stroke=\"#000000\" points=\"82.9115,-43.0967 87.7016,-33.6465 78.0638,-38.047 82.9115,-43.0967\"/>\n",
       "</g>\n",
       "</g>\n",
       "</svg>\n"
      ]
     },
     "execution_count": 27,
     "metadata": {},
     "output_type": "execute_result"
    }
   ],
   "source": [
    "(first random-semimarkovian-models)"
   ]
  },
  {
   "cell_type": "code",
   "execution_count": null,
   "metadata": {},
   "outputs": [],
   "source": []
  }
 ],
 "metadata": {
  "kernelspec": {
   "display_name": "Lein-Clojure",
   "language": "clojure",
   "name": "lein-clojure"
  },
  "language_info": {
   "file_extension": ".clj",
   "mimetype": "text/x-clojure",
   "name": "clojure",
   "version": "1.8.0"
  }
 },
 "nbformat": 4,
 "nbformat_minor": 2
}
